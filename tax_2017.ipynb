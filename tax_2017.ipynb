{
 "cells": [
  {
   "cell_type": "markdown",
   "metadata": {},
   "source": [
    "# settings"
   ]
  },
  {
   "cell_type": "code",
   "execution_count": null,
   "metadata": {
    "ExecuteTime": {
     "end_time": "2020-02-24T09:16:09.819108Z",
     "start_time": "2020-02-24T09:16:08.442230Z"
    }
   },
   "outputs": [],
   "source": [
    "import os\n",
    "import re\n",
    "import pandas as pd"
   ]
  },
  {
   "cell_type": "code",
   "execution_count": null,
   "metadata": {
    "ExecuteTime": {
     "end_time": "2020-02-24T09:16:11.569673Z",
     "start_time": "2020-02-24T09:16:11.554005Z"
    }
   },
   "outputs": [],
   "source": [
    "# pandas の最大表示列数を設定 (max_rows で表示行数の設定も可能)\n",
    "pd.set_option('display.max_columns', 30)"
   ]
  },
  {
   "cell_type": "code",
   "execution_count": null,
   "metadata": {
    "ExecuteTime": {
     "end_time": "2020-02-24T09:16:12.889326Z",
     "start_time": "2020-02-24T09:16:12.873668Z"
    }
   },
   "outputs": [],
   "source": [
    "os.getcwd()"
   ]
  },
  {
   "cell_type": "code",
   "execution_count": null,
   "metadata": {
    "ExecuteTime": {
     "end_time": "2020-02-24T09:16:23.944359Z",
     "start_time": "2020-02-24T09:16:23.928751Z"
    }
   },
   "outputs": [],
   "source": [
    "# 請求書の場所を指定\n",
    "bill_dir = r\"D:\\documents\\tax\\h31\\Bill_2019\""
   ]
  },
  {
   "cell_type": "code",
   "execution_count": null,
   "metadata": {
    "ExecuteTime": {
     "end_time": "2020-02-24T09:16:29.341585Z",
     "start_time": "2020-02-24T09:16:29.325979Z"
    }
   },
   "outputs": [],
   "source": [
    "def getEncode(filepath):\n",
    "    '''\n",
    "    テキストファイルの文字コードを確認する関数\n",
    "    デコードエラーが出なくなるまで順番に試す\n",
    "    試す順番で結果が変わる可能性がある\n",
    "    getEncode(r'filepath')\n",
    "    '''\n",
    "    encs = \"iso-2022-jp euc-jp sjis utf-8\".split()\n",
    "    for enc in encs:\n",
    "        with open(filepath, encoding=enc) as fr:\n",
    "            try:\n",
    "                fr = fr.read()\n",
    "            except UnicodeDecodeError:\n",
    "                continue\n",
    "        return enc"
   ]
  },
  {
   "cell_type": "code",
   "execution_count": null,
   "metadata": {
    "ExecuteTime": {
     "end_time": "2020-02-24T09:17:52.580676Z",
     "start_time": "2020-02-24T09:17:52.549458Z"
    }
   },
   "outputs": [],
   "source": [
    "getEncode(r\"D:\\documents\\tax\\h31\\Bill_2019\\jcb\\202002meisai.csv\")"
   ]
  },
  {
   "cell_type": "markdown",
   "metadata": {},
   "source": [
    "# JCB"
   ]
  },
  {
   "cell_type": "code",
   "execution_count": null,
   "metadata": {
    "ExecuteTime": {
     "end_time": "2020-02-24T09:17:57.105544Z",
     "start_time": "2020-02-24T09:17:57.089929Z"
    }
   },
   "outputs": [],
   "source": [
    "card = 'jcb'"
   ]
  },
  {
   "cell_type": "code",
   "execution_count": null,
   "metadata": {
    "ExecuteTime": {
     "end_time": "2020-02-24T09:17:59.723734Z",
     "start_time": "2020-02-24T09:17:59.708087Z"
    }
   },
   "outputs": [],
   "source": [
    "bills = os.listdir('{0}\\{1}'.format(bill_dir, card))\n",
    "bills"
   ]
  },
  {
   "cell_type": "code",
   "execution_count": null,
   "metadata": {
    "ExecuteTime": {
     "end_time": "2020-02-24T09:18:08.542322Z",
     "start_time": "2020-02-24T09:18:08.386560Z"
    },
    "scrolled": true
   },
   "outputs": [],
   "source": [
    "jcb = pd.DataFrame()\n",
    "for x in bills:\n",
    "    jcb = jcb.append(pd.read_csv('{0}\\{1}\\{2}'.format(bill_dir, card, x)\n",
    "                     , skiprows=5, encoding='Shift-JIS'))\n",
    "display(jcb)"
   ]
  },
  {
   "cell_type": "code",
   "execution_count": null,
   "metadata": {
    "ExecuteTime": {
     "end_time": "2020-02-24T09:18:21.473164Z",
     "start_time": "2020-02-24T09:18:21.457506Z"
    }
   },
   "outputs": [],
   "source": [
    "jcb.columns"
   ]
  },
  {
   "cell_type": "code",
   "execution_count": null,
   "metadata": {
    "ExecuteTime": {
     "end_time": "2020-02-24T09:18:24.348245Z",
     "start_time": "2020-02-24T09:18:24.316989Z"
    }
   },
   "outputs": [],
   "source": [
    "jcb.groupby('カテゴリ').count()"
   ]
  },
  {
   "cell_type": "code",
   "execution_count": null,
   "metadata": {
    "ExecuteTime": {
     "end_time": "2020-02-24T09:18:28.599200Z",
     "start_time": "2020-02-24T09:18:28.567955Z"
    }
   },
   "outputs": [],
   "source": [
    "jcb.groupby('支払区分').count()"
   ]
  },
  {
   "cell_type": "code",
   "execution_count": null,
   "metadata": {
    "ExecuteTime": {
     "end_time": "2020-02-24T09:18:34.195857Z",
     "start_time": "2020-02-24T09:18:34.180236Z"
    }
   },
   "outputs": [],
   "source": [
    "jcb.groupby('摘要').count()"
   ]
  },
  {
   "cell_type": "code",
   "execution_count": null,
   "metadata": {
    "ExecuteTime": {
     "end_time": "2020-02-24T09:18:45.349700Z",
     "start_time": "2020-02-24T09:18:45.334090Z"
    }
   },
   "outputs": [],
   "source": [
    "jcb['コード'] = \"\"\n",
    "jcb['カード'] = 'JCB'"
   ]
  },
  {
   "cell_type": "code",
   "execution_count": null,
   "metadata": {
    "ExecuteTime": {
     "end_time": "2020-02-24T09:19:03.298592Z",
     "start_time": "2020-02-24T09:19:03.236071Z"
    }
   },
   "outputs": [],
   "source": [
    "jcb = jcb[jcb['ご利用日'].str.contains('2019')]\n",
    "display(jcb)"
   ]
  },
  {
   "cell_type": "code",
   "execution_count": null,
   "metadata": {
    "ExecuteTime": {
     "end_time": "2020-02-24T09:19:16.723499Z",
     "start_time": "2020-02-24T09:19:16.676595Z"
    }
   },
   "outputs": [],
   "source": [
    "jcb = jcb[['ご利用日', 'コード', 'ご利用金額(￥)', 'ご利用先など', 'カード']]\n",
    "display(jcb)"
   ]
  },
  {
   "cell_type": "code",
   "execution_count": null,
   "metadata": {
    "ExecuteTime": {
     "end_time": "2020-02-24T09:19:26.469786Z",
     "start_time": "2020-02-24T09:19:26.438574Z"
    }
   },
   "outputs": [],
   "source": [
    "jcb.columns = ['日付', 'コード', '金額', '備考', 'カード']\n",
    "display(jcb)"
   ]
  },
  {
   "cell_type": "code",
   "execution_count": null,
   "metadata": {
    "ExecuteTime": {
     "end_time": "2020-02-24T09:19:30.535327Z",
     "start_time": "2020-02-24T09:19:30.488862Z"
    }
   },
   "outputs": [],
   "source": [
    "jcb = jcb.sort_values(['備考', '日付']).reset_index(drop=True)\n",
    "display(jcb)"
   ]
  },
  {
   "cell_type": "code",
   "execution_count": null,
   "metadata": {
    "ExecuteTime": {
     "end_time": "2020-02-24T09:19:37.913255Z",
     "start_time": "2020-02-24T09:19:37.866388Z"
    }
   },
   "outputs": [],
   "source": [
    "jcb['日付'] = jcb['日付'].str.replace(' ', \"\")\n",
    "display(jcb)"
   ]
  },
  {
   "cell_type": "code",
   "execution_count": null,
   "metadata": {
    "ExecuteTime": {
     "end_time": "2020-02-24T09:19:41.317196Z",
     "start_time": "2020-02-24T09:19:41.286401Z"
    }
   },
   "outputs": [],
   "source": [
    "jcb.to_csv('{0}\\{1}.csv'.format(bill_dir, card), index=False, encoding=('Shift-JIS'))"
   ]
  },
  {
   "cell_type": "markdown",
   "metadata": {},
   "source": [
    "# rakuten"
   ]
  },
  {
   "cell_type": "code",
   "execution_count": null,
   "metadata": {
    "ExecuteTime": {
     "end_time": "2020-02-24T09:22:36.694411Z",
     "start_time": "2020-02-24T09:22:36.679237Z"
    }
   },
   "outputs": [],
   "source": [
    "card = 'rakuten'"
   ]
  },
  {
   "cell_type": "code",
   "execution_count": null,
   "metadata": {
    "ExecuteTime": {
     "end_time": "2020-02-24T09:22:37.864529Z",
     "start_time": "2020-02-24T09:22:37.848880Z"
    }
   },
   "outputs": [],
   "source": [
    "bills = os.listdir('{0}\\{1}'.format(bill_dir, card))\n",
    "bills"
   ]
  },
  {
   "cell_type": "code",
   "execution_count": null,
   "metadata": {
    "ExecuteTime": {
     "end_time": "2020-02-24T09:22:41.758838Z",
     "start_time": "2020-02-24T09:22:41.587005Z"
    }
   },
   "outputs": [],
   "source": [
    "rakuten = pd.DataFrame()\n",
    "for x in bills:\n",
    "    rakuten = rakuten.append(pd.read_csv('{0}\\{1}\\{2}'.format(bill_dir, card, x)\n",
    "                             , encoding='Shift-JIS'), sort = True)\n",
    "display(rakuten)"
   ]
  },
  {
   "cell_type": "code",
   "execution_count": null,
   "metadata": {
    "ExecuteTime": {
     "end_time": "2020-02-24T09:22:50.529061Z",
     "start_time": "2020-02-24T09:22:50.513443Z"
    }
   },
   "outputs": [],
   "source": [
    "rakuten.columns"
   ]
  },
  {
   "cell_type": "code",
   "execution_count": null,
   "metadata": {
    "ExecuteTime": {
     "end_time": "2020-02-24T09:23:04.596071Z",
     "start_time": "2020-02-24T09:23:04.565343Z"
    }
   },
   "outputs": [],
   "source": [
    "rakuten.groupby('利用者').count()"
   ]
  },
  {
   "cell_type": "code",
   "execution_count": null,
   "metadata": {
    "ExecuteTime": {
     "end_time": "2020-02-24T09:23:10.207249Z",
     "start_time": "2020-02-24T09:23:10.175967Z"
    }
   },
   "outputs": [],
   "source": [
    "rakuten.groupby('支払方法').count()"
   ]
  },
  {
   "cell_type": "code",
   "execution_count": null,
   "metadata": {
    "ExecuteTime": {
     "end_time": "2020-02-24T09:23:14.113724Z",
     "start_time": "2020-02-24T09:23:14.098064Z"
    }
   },
   "outputs": [],
   "source": [
    "rakuten['コード'] = \"\"\n",
    "rakuten['カード'] = '楽天'"
   ]
  },
  {
   "cell_type": "code",
   "execution_count": null,
   "metadata": {
    "ExecuteTime": {
     "end_time": "2020-02-24T09:23:17.913433Z",
     "start_time": "2020-02-24T09:23:17.804092Z"
    }
   },
   "outputs": [],
   "source": [
    "rakuten = rakuten[~rakuten['利用日'].isnull()]\n",
    "display(rakuten)"
   ]
  },
  {
   "cell_type": "code",
   "execution_count": null,
   "metadata": {
    "ExecuteTime": {
     "end_time": "2020-02-24T09:23:29.895838Z",
     "start_time": "2020-02-24T09:23:29.770854Z"
    }
   },
   "outputs": [],
   "source": [
    "# 2018年の7月分から日付表記が yy.mm.dd から yyyy/mm/dd に変更になった\n",
    "# regex=True とすることで 18. も 2018/ も抽出される\n",
    "# rakuten = rakuten[rakuten['利用日'].str.contains('18.', regex=True)]\n",
    "rakuten = rakuten[rakuten['利用日'].str.contains('2019/')]\n",
    "display(rakuten)"
   ]
  },
  {
   "cell_type": "code",
   "execution_count": null,
   "metadata": {
    "ExecuteTime": {
     "end_time": "2020-02-24T09:23:34.275358Z",
     "start_time": "2020-02-24T09:23:34.244073Z"
    }
   },
   "outputs": [],
   "source": [
    "rakuten = rakuten[['利用日', 'コード', '利用金額', '利用店名・商品名', 'カード']]\n",
    "display(rakuten)"
   ]
  },
  {
   "cell_type": "code",
   "execution_count": null,
   "metadata": {
    "ExecuteTime": {
     "end_time": "2020-02-24T09:23:38.573320Z",
     "start_time": "2020-02-24T09:23:38.542078Z"
    }
   },
   "outputs": [],
   "source": [
    "rakuten.columns = ['日付', 'コード', '金額', '備考', 'カード']\n",
    "display(rakuten)"
   ]
  },
  {
   "cell_type": "code",
   "execution_count": null,
   "metadata": {
    "ExecuteTime": {
     "end_time": "2020-02-24T09:23:41.419596Z",
     "start_time": "2020-02-24T09:23:41.388344Z"
    }
   },
   "outputs": [],
   "source": [
    "rakuten = rakuten.sort_values(['備考', '日付']).reset_index(drop=True)\n",
    "display(rakuten)"
   ]
  },
  {
   "cell_type": "code",
   "execution_count": null,
   "metadata": {
    "ExecuteTime": {
     "end_time": "2019-02-22T02:23:06.139666Z",
     "start_time": "2019-02-22T02:23:06.092835Z"
    }
   },
   "outputs": [],
   "source": [
    "# 2018年の7月分から日付表記が yy.mm.dd から yyyy/mm/dd に変更になったので不要\n",
    "# \n",
    "# rakuten['日付'] = rakuten['日付'].str.replace('18.', '2018.', regex=False)\n",
    "# display(rakuten)"
   ]
  },
  {
   "cell_type": "code",
   "execution_count": null,
   "metadata": {
    "ExecuteTime": {
     "end_time": "2019-02-22T02:23:13.547376Z",
     "start_time": "2019-02-22T02:23:13.500907Z"
    }
   },
   "outputs": [],
   "source": [
    "# 2018年の7月分から日付表記が yy.mm.dd から yyyy/mm/dd に変更になったので不要\n",
    "# rakuten['日付'] = rakuten['日付'].str.replace('.', '/')\n",
    "# display(rakuten)"
   ]
  },
  {
   "cell_type": "code",
   "execution_count": null,
   "metadata": {
    "ExecuteTime": {
     "end_time": "2020-02-24T09:23:49.421683Z",
     "start_time": "2020-02-24T09:23:49.406308Z"
    }
   },
   "outputs": [],
   "source": [
    "rakuten.to_csv('{0}\\{1}.csv'.format(bill_dir, card), index=False, encoding=('Shift-JIS'))"
   ]
  },
  {
   "cell_type": "markdown",
   "metadata": {},
   "source": [
    "# view"
   ]
  },
  {
   "cell_type": "code",
   "execution_count": null,
   "metadata": {
    "ExecuteTime": {
     "end_time": "2020-02-24T09:27:04.947922Z",
     "start_time": "2020-02-24T09:27:04.932693Z"
    }
   },
   "outputs": [],
   "source": [
    "card = 'view'"
   ]
  },
  {
   "cell_type": "code",
   "execution_count": null,
   "metadata": {
    "ExecuteTime": {
     "end_time": "2020-02-24T09:27:05.760183Z",
     "start_time": "2020-02-24T09:27:05.744560Z"
    }
   },
   "outputs": [],
   "source": [
    "bills = os.listdir('{0}\\{1}'.format(bill_dir, card))\n",
    "bills"
   ]
  },
  {
   "cell_type": "code",
   "execution_count": null,
   "metadata": {
    "ExecuteTime": {
     "end_time": "2020-02-24T09:27:12.473142Z",
     "start_time": "2020-02-24T09:27:12.316548Z"
    }
   },
   "outputs": [],
   "source": [
    "view = pd.DataFrame()\n",
    "for x in bills:\n",
    "    view = view.append(pd.read_csv('{0}\\{1}\\{2}'.format(bill_dir, card, x)\n",
    "                       , skiprows=5, encoding='Shift-JIS'))\n",
    "display(view)"
   ]
  },
  {
   "cell_type": "code",
   "execution_count": null,
   "metadata": {
    "ExecuteTime": {
     "end_time": "2020-02-24T09:27:24.020393Z",
     "start_time": "2020-02-24T09:27:24.004745Z"
    }
   },
   "outputs": [],
   "source": [
    "view.columns"
   ]
  },
  {
   "cell_type": "code",
   "execution_count": null,
   "metadata": {
    "ExecuteTime": {
     "end_time": "2020-02-24T09:27:25.094011Z",
     "start_time": "2020-02-24T09:27:25.068080Z"
    }
   },
   "outputs": [],
   "source": [
    "view.groupby('ご利用箇所').count()"
   ]
  },
  {
   "cell_type": "code",
   "execution_count": null,
   "metadata": {
    "ExecuteTime": {
     "end_time": "2020-02-24T09:27:28.437589Z",
     "start_time": "2020-02-24T09:27:28.421967Z"
    }
   },
   "outputs": [],
   "source": [
    "view.groupby('払戻額').count()"
   ]
  },
  {
   "cell_type": "code",
   "execution_count": null,
   "metadata": {
    "ExecuteTime": {
     "end_time": "2020-02-24T09:27:29.265829Z",
     "start_time": "2020-02-24T09:27:29.250208Z"
    }
   },
   "outputs": [],
   "source": [
    "view.groupby('支払区分（回数）').count()"
   ]
  },
  {
   "cell_type": "code",
   "execution_count": null,
   "metadata": {
    "ExecuteTime": {
     "end_time": "2020-02-24T09:27:30.646900Z",
     "start_time": "2020-02-24T09:27:30.631682Z"
    }
   },
   "outputs": [],
   "source": [
    "view['コード'] = \"\"\n",
    "view['カード'] = 'view'"
   ]
  },
  {
   "cell_type": "code",
   "execution_count": null,
   "metadata": {
    "ExecuteTime": {
     "end_time": "2020-02-24T09:27:31.490495Z",
     "start_time": "2020-02-24T09:27:31.427959Z"
    }
   },
   "outputs": [],
   "source": [
    "view = view[~view['ご利用箇所'].isnull()]\n",
    "display(view)"
   ]
  },
  {
   "cell_type": "code",
   "execution_count": null,
   "metadata": {
    "ExecuteTime": {
     "end_time": "2020-02-24T09:27:35.893042Z",
     "start_time": "2020-02-24T09:27:35.815343Z"
    }
   },
   "outputs": [],
   "source": [
    "view = view[view['ご利用年月日'].str.contains('2019/')]\n",
    "display(view)"
   ]
  },
  {
   "cell_type": "code",
   "execution_count": null,
   "metadata": {
    "ExecuteTime": {
     "end_time": "2020-02-24T09:27:40.473062Z",
     "start_time": "2020-02-24T09:27:40.441818Z"
    }
   },
   "outputs": [],
   "source": [
    "view = view[['ご利用年月日', 'コード', 'ご利用額', 'ご利用箇所', 'カード']]\n",
    "display(view)"
   ]
  },
  {
   "cell_type": "code",
   "execution_count": null,
   "metadata": {
    "ExecuteTime": {
     "end_time": "2020-02-24T09:27:44.062072Z",
     "start_time": "2020-02-24T09:27:44.030830Z"
    }
   },
   "outputs": [],
   "source": [
    "view.columns = ['日付', 'コード', '金額', '備考', 'カード']\n",
    "display(view)"
   ]
  },
  {
   "cell_type": "code",
   "execution_count": null,
   "metadata": {
    "ExecuteTime": {
     "end_time": "2020-02-24T09:27:45.286768Z",
     "start_time": "2020-02-24T09:27:45.240350Z"
    }
   },
   "outputs": [],
   "source": [
    "view = view.sort_values(['日付']).reset_index(drop=True)\n",
    "display(view)"
   ]
  },
  {
   "cell_type": "code",
   "execution_count": null,
   "metadata": {
    "ExecuteTime": {
     "end_time": "2020-02-24T09:27:47.688914Z",
     "start_time": "2020-02-24T09:27:47.673257Z"
    }
   },
   "outputs": [],
   "source": [
    "view.to_csv('{0}\\{1}.csv'.format(bill_dir, card), index=False, encoding=('Shift-JIS'))"
   ]
  },
  {
   "cell_type": "markdown",
   "metadata": {},
   "source": [
    "# nicos"
   ]
  },
  {
   "cell_type": "code",
   "execution_count": null,
   "metadata": {
    "ExecuteTime": {
     "end_time": "2020-02-24T09:27:51.924029Z",
     "start_time": "2020-02-24T09:27:51.908854Z"
    }
   },
   "outputs": [],
   "source": [
    "card = 'nicos'"
   ]
  },
  {
   "cell_type": "code",
   "execution_count": null,
   "metadata": {
    "ExecuteTime": {
     "end_time": "2020-02-24T09:27:52.673902Z",
     "start_time": "2020-02-24T09:27:52.643076Z"
    }
   },
   "outputs": [],
   "source": [
    "bills = os.listdir('{0}\\{1}'.format(bill_dir, card))\n",
    "bills"
   ]
  },
  {
   "cell_type": "code",
   "execution_count": null,
   "metadata": {
    "ExecuteTime": {
     "end_time": "2020-02-24T09:27:54.916657Z",
     "start_time": "2020-02-24T09:27:54.791799Z"
    }
   },
   "outputs": [],
   "source": [
    "nicos = pd.DataFrame()\n",
    "for x in bills:\n",
    "    nicos = nicos.append(pd.read_csv('{0}\\{1}\\{2}'.format(bill_dir, card, x)\n",
    "                         , encoding='Shift-JIS'))\n",
    "display(nicos)"
   ]
  },
  {
   "cell_type": "code",
   "execution_count": null,
   "metadata": {
    "ExecuteTime": {
     "end_time": "2020-02-24T09:27:58.393814Z",
     "start_time": "2020-02-24T09:27:58.378567Z"
    }
   },
   "outputs": [],
   "source": [
    "nicos.columns"
   ]
  },
  {
   "cell_type": "code",
   "execution_count": null,
   "metadata": {
    "ExecuteTime": {
     "end_time": "2020-02-24T09:28:03.270131Z",
     "start_time": "2020-02-24T09:28:03.254511Z"
    }
   },
   "outputs": [],
   "source": [
    "nicos.groupby('支払回数').count()"
   ]
  },
  {
   "cell_type": "code",
   "execution_count": null,
   "metadata": {
    "ExecuteTime": {
     "end_time": "2020-02-24T09:28:04.224108Z",
     "start_time": "2020-02-24T09:28:04.208487Z"
    }
   },
   "outputs": [],
   "source": [
    "nicos['コード'] = \"\"\n",
    "nicos['カード'] = 'nicos'"
   ]
  },
  {
   "cell_type": "code",
   "execution_count": null,
   "metadata": {
    "ExecuteTime": {
     "end_time": "2020-02-24T09:28:07.084040Z",
     "start_time": "2020-02-24T09:28:07.037490Z"
    }
   },
   "outputs": [],
   "source": [
    "nicos = nicos[~nicos['ご利用日'].isnull()]\n",
    "display(nicos)"
   ]
  },
  {
   "cell_type": "code",
   "execution_count": null,
   "metadata": {
    "ExecuteTime": {
     "end_time": "2020-02-24T09:28:11.821237Z",
     "start_time": "2020-02-24T09:28:11.789972Z"
    }
   },
   "outputs": [],
   "source": [
    "nicos = nicos[nicos['ご利用日'].str.match(r'\\d+-\\d+-\\d+')]\n",
    "display(nicos)"
   ]
  },
  {
   "cell_type": "code",
   "execution_count": null,
   "metadata": {
    "ExecuteTime": {
     "end_time": "2020-02-24T09:28:14.896129Z",
     "start_time": "2020-02-24T09:28:14.864921Z"
    }
   },
   "outputs": [],
   "source": [
    "nicos = nicos[nicos['ご利用日'].str.contains('2019-')]\n",
    "display(nicos)"
   ]
  },
  {
   "cell_type": "code",
   "execution_count": null,
   "metadata": {
    "ExecuteTime": {
     "end_time": "2020-02-24T09:28:19.350863Z",
     "start_time": "2020-02-24T09:28:19.319620Z"
    }
   },
   "outputs": [],
   "source": [
    "nicos = nicos[['ご利用日', 'コード', 'ご利用金額（円）', 'ご利用先／商品内容など', 'カード']]\n",
    "display(nicos)"
   ]
  },
  {
   "cell_type": "code",
   "execution_count": null,
   "metadata": {
    "ExecuteTime": {
     "end_time": "2020-02-24T09:28:20.398044Z",
     "start_time": "2020-02-24T09:28:20.366801Z"
    }
   },
   "outputs": [],
   "source": [
    "nicos.columns = ['日付', 'コード', '金額', '備考', 'カード']\n",
    "display(nicos)"
   ]
  },
  {
   "cell_type": "code",
   "execution_count": null,
   "metadata": {
    "ExecuteTime": {
     "end_time": "2020-02-24T09:28:23.242499Z",
     "start_time": "2020-02-24T09:28:23.226876Z"
    }
   },
   "outputs": [],
   "source": [
    "nicos = nicos.sort_values(['備考', '日付']).reset_index(drop=True)\n",
    "display(nicos)"
   ]
  },
  {
   "cell_type": "code",
   "execution_count": null,
   "metadata": {
    "ExecuteTime": {
     "end_time": "2020-02-24T09:28:24.257934Z",
     "start_time": "2020-02-24T09:28:24.227093Z"
    },
    "scrolled": true
   },
   "outputs": [],
   "source": [
    "nicos['日付'] = nicos['日付'].str.replace('-', '/')\n",
    "display(nicos)"
   ]
  },
  {
   "cell_type": "code",
   "execution_count": null,
   "metadata": {
    "ExecuteTime": {
     "end_time": "2020-02-24T09:28:26.777061Z",
     "start_time": "2020-02-24T09:28:26.761856Z"
    }
   },
   "outputs": [],
   "source": [
    "nicos.to_csv('{0}\\{1}.csv'.format(bill_dir, card), index=False, encoding=('Shift-JIS'))"
   ]
  },
  {
   "cell_type": "markdown",
   "metadata": {},
   "source": [
    "# amazon"
   ]
  },
  {
   "cell_type": "markdown",
   "metadata": {},
   "source": [
    "未完成。購入履歴の一覧を取得したかったが、サイトの構造的になかなか難しい。"
   ]
  },
  {
   "cell_type": "code",
   "execution_count": null,
   "metadata": {
    "ExecuteTime": {
     "end_time": "2018-02-17T06:21:22.988860Z",
     "start_time": "2018-02-17T06:21:22.881898Z"
    }
   },
   "outputs": [],
   "source": [
    "from selenium import webdriver\n",
    "from selenium.webdriver.common.keys import Keys\n",
    "from selenium.webdriver.support.select import Select"
   ]
  },
  {
   "cell_type": "code",
   "execution_count": null,
   "metadata": {
    "ExecuteTime": {
     "end_time": "2018-02-17T04:10:37.568484Z",
     "start_time": "2018-02-17T04:10:37.564473Z"
    }
   },
   "outputs": [],
   "source": [
    "import sys\n",
    "import time\n",
    "import re"
   ]
  },
  {
   "cell_type": "code",
   "execution_count": null,
   "metadata": {
    "ExecuteTime": {
     "end_time": "2018-02-17T03:20:42.139540Z",
     "start_time": "2018-02-17T03:20:27.808286Z"
    }
   },
   "outputs": [],
   "source": [
    "AMAZON_EMAIL = input('email=')\n",
    "AMAZON_PASSWORD = input('password=')"
   ]
  },
  {
   "cell_type": "code",
   "execution_count": null,
   "metadata": {
    "ExecuteTime": {
     "end_time": "2018-02-17T06:21:40.723511Z",
     "start_time": "2018-02-17T06:21:35.995503Z"
    }
   },
   "outputs": [],
   "source": [
    "# ChromeのWebDriverオブジェクトを作成する\n",
    "driver = webdriver.Chrome()"
   ]
  },
  {
   "cell_type": "code",
   "execution_count": null,
   "metadata": {
    "ExecuteTime": {
     "end_time": "2018-02-17T03:21:01.192223Z",
     "start_time": "2018-02-17T03:20:57.361679Z"
    }
   },
   "outputs": [],
   "source": [
    "# Amazonの注文履歴画面(ログイン画面)を開く\n",
    "driver.get('https://www.amazon.co.jp/gp/css/order-history')\n",
    "print('Waiting for contents to be loaded...', file=sys.stderr)\n",
    "time.sleep(2)  # 2秒間待つ"
   ]
  },
  {
   "cell_type": "code",
   "execution_count": null,
   "metadata": {
    "ExecuteTime": {
     "end_time": "2018-02-17T03:21:02.513617Z",
     "start_time": "2018-02-17T03:21:02.503565Z"
    }
   },
   "outputs": [],
   "source": [
    "# タイトルに'Amazonサインイン'が含まれていることを確認する\n",
    "assert 'Amazonサインイン' in driver.title"
   ]
  },
  {
   "cell_type": "code",
   "execution_count": null,
   "metadata": {
    "ExecuteTime": {
     "end_time": "2018-02-17T03:21:09.034091Z",
     "start_time": "2018-02-17T03:21:05.791787Z"
    }
   },
   "outputs": [],
   "source": [
    "input_element = driver.find_element_by_name('email')\n",
    "input_element.send_keys(AMAZON_EMAIL)\n",
    "input_element.send_keys(Keys.RETURN)\n",
    "print('Waiting for contents to be loaded...', file=sys.stderr)\n",
    "time.sleep(2)  # 2秒間待つ"
   ]
  },
  {
   "cell_type": "code",
   "execution_count": null,
   "metadata": {
    "ExecuteTime": {
     "end_time": "2018-02-17T03:21:36.755378Z",
     "start_time": "2018-02-17T03:21:31.712468Z"
    }
   },
   "outputs": [],
   "source": [
    "input_element = driver.find_element_by_name('password')\n",
    "input_element.send_keys(AMAZON_PASSWORD)\n",
    "input_element.send_keys(Keys.RETURN)\n",
    "print('Waiting for contents to be loaded...', file=sys.stderr)\n",
    "time.sleep(2)  # 2秒間待つ"
   ]
  },
  {
   "cell_type": "code",
   "execution_count": null,
   "metadata": {
    "ExecuteTime": {
     "end_time": "2018-02-17T03:21:48.508012Z",
     "start_time": "2018-02-17T03:21:48.498988Z"
    }
   },
   "outputs": [],
   "source": [
    "# タイトルに'注文履歴'が含まれていることを確認する\n",
    "assert '注文履歴' in driver.title"
   ]
  },
  {
   "cell_type": "code",
   "execution_count": null,
   "metadata": {
    "ExecuteTime": {
     "end_time": "2018-02-17T03:21:59.054686Z",
     "start_time": "2018-02-17T03:21:56.841653Z"
    }
   },
   "outputs": [],
   "source": [
    "#要素をid番号から取得する(idが001のセレクトタグ)\n",
    "element = driver.find_element_by_id(\"orderFilter\")\n",
    "#指定するテキストを設定する\n",
    "text = \"2017年\"\n",
    "#セレクトタグの要素を指定してSelectクラスのインスタンスを作成\n",
    "select = Select(element)\n",
    "#セレクトタグのオプションをテキストを指定して選択する\n",
    "select.select_by_visible_text(text)"
   ]
  },
  {
   "cell_type": "code",
   "execution_count": null,
   "metadata": {
    "ExecuteTime": {
     "end_time": "2018-02-16T00:15:51.387765Z",
     "start_time": "2018-02-16T00:15:51.301509Z"
    }
   },
   "outputs": [],
   "source": [
    "# ソースコードを取得する\n",
    "print(driver.page_source)"
   ]
  },
  {
   "cell_type": "code",
   "execution_count": null,
   "metadata": {
    "ExecuteTime": {
     "end_time": "2018-02-16T01:13:39.209032Z",
     "start_time": "2018-02-16T01:13:38.390022Z"
    }
   },
   "outputs": [],
   "source": [
    "element = driver.find_element_by_id(\"ordersContainer\")\n",
    "print(element.text)"
   ]
  },
  {
   "cell_type": "code",
   "execution_count": null,
   "metadata": {
    "ExecuteTime": {
     "end_time": "2018-02-17T06:07:27.021653Z",
     "start_time": "2018-02-17T06:07:26.490400Z"
    },
    "scrolled": true
   },
   "outputs": [],
   "source": [
    "order = driver.find_elements_by_class_name(\"order\")\n",
    "for detail in order:\n",
    "    print(detail.text)\n",
    "    print('\\n- - - - -\\n')"
   ]
  },
  {
   "cell_type": "code",
   "execution_count": null,
   "metadata": {
    "ExecuteTime": {
     "end_time": "2018-02-17T06:10:10.922240Z",
     "start_time": "2018-02-17T06:10:10.866055Z"
    }
   },
   "outputs": [],
   "source": [
    "text1 = order[1].text\n",
    "text1"
   ]
  },
  {
   "cell_type": "code",
   "execution_count": null,
   "metadata": {
    "ExecuteTime": {
     "end_time": "2018-02-17T06:11:00.774860Z",
     "start_time": "2018-02-17T06:11:00.770828Z"
    }
   },
   "outputs": [],
   "source": [
    "list1 = re.split('\\n', text1)\n",
    "list1"
   ]
  },
  {
   "cell_type": "code",
   "execution_count": null,
   "metadata": {
    "ExecuteTime": {
     "end_time": "2018-02-17T06:11:37.988268Z",
     "start_time": "2018-02-17T06:11:37.951170Z"
    }
   },
   "outputs": [],
   "source": [
    "text2 = order[2].text\n",
    "text2"
   ]
  },
  {
   "cell_type": "code",
   "execution_count": null,
   "metadata": {
    "ExecuteTime": {
     "end_time": "2018-02-17T06:11:39.614830Z",
     "start_time": "2018-02-17T06:11:39.609817Z"
    }
   },
   "outputs": [],
   "source": [
    "list2 = re.split('\\n', text2)\n",
    "list2"
   ]
  },
  {
   "cell_type": "code",
   "execution_count": null,
   "metadata": {
    "ExecuteTime": {
     "end_time": "2018-02-17T06:12:03.585435Z",
     "start_time": "2018-02-17T06:12:03.581450Z"
    }
   },
   "outputs": [],
   "source": [
    "for index, item in enumerate(list1):\n",
    "    print(\"index: {0}, value: {1}\".format(str(index), item))"
   ]
  },
  {
   "cell_type": "code",
   "execution_count": null,
   "metadata": {
    "ExecuteTime": {
     "end_time": "2018-02-17T06:12:11.237474Z",
     "start_time": "2018-02-17T06:12:11.233461Z"
    }
   },
   "outputs": [],
   "source": [
    "for index, item in enumerate(list2):\n",
    "    print(\"index: {0}, value: {1}\".format(str(index), item))"
   ]
  },
  {
   "cell_type": "code",
   "execution_count": null,
   "metadata": {
    "ExecuteTime": {
     "end_time": "2018-02-17T06:12:38.717005Z",
     "start_time": "2018-02-17T06:12:38.712996Z"
    }
   },
   "outputs": [],
   "source": [
    "list(filter(lambda x: re.match('\\d\\d\\d\\d年', x), list1))"
   ]
  },
  {
   "cell_type": "code",
   "execution_count": null,
   "metadata": {
    "ExecuteTime": {
     "end_time": "2018-02-17T06:12:40.472147Z",
     "start_time": "2018-02-17T06:12:40.468137Z"
    }
   },
   "outputs": [],
   "source": [
    "list(filter(lambda x: re.match('￥', x), list1))"
   ]
  },
  {
   "cell_type": "code",
   "execution_count": null,
   "metadata": {
    "ExecuteTime": {
     "end_time": "2018-02-17T03:24:09.254871Z",
     "start_time": "2018-02-17T03:24:09.235819Z"
    }
   },
   "outputs": [],
   "source": [
    "order = driver.find_elements_by_class_name(\"order\")"
   ]
  },
  {
   "cell_type": "code",
   "execution_count": null,
   "metadata": {
    "ExecuteTime": {
     "end_time": "2018-02-17T03:24:14.152271Z",
     "start_time": "2018-02-17T03:24:14.085308Z"
    }
   },
   "outputs": [],
   "source": [
    "info = order[5].find_element_by_css_selector(\".order-info\")\n",
    "info.text"
   ]
  },
  {
   "cell_type": "code",
   "execution_count": null,
   "metadata": {
    "ExecuteTime": {
     "end_time": "2018-02-17T03:25:24.346479Z",
     "start_time": "2018-02-17T03:25:24.100186Z"
    },
    "scrolled": true
   },
   "outputs": [],
   "source": [
    "detail = order[1].find_element_by_css_selector(\".a-grid-top\")\n",
    "arow = detail.find_elements_by_css_selector(\".a-row\")\n",
    "for x in arow:\n",
    "    print(x.text)\n",
    "    print('\\n')"
   ]
  },
  {
   "cell_type": "code",
   "execution_count": null,
   "metadata": {
    "ExecuteTime": {
     "end_time": "2018-02-12T13:37:54.097754Z",
     "start_time": "2018-02-12T13:37:49.332078Z"
    }
   },
   "outputs": [],
   "source": [
    "# ページャーをたどる。\n",
    "while True:\n",
    "    assert '注文履歴' in browser.parsed.title.string # 注文履歴画面が表示されていることを確認する。\n",
    "\n",
    "    print_order_history() # 注文履歴を表示する。\n",
    "\n",
    "    link_to_next = browser.get_link('次へ') #「次へ」というテキストを持つリンクを取得する。\n",
    "    if not link_to_next:\n",
    "        break #「次へ」のリンクがない場合はループを抜けて終了する。\n",
    "\n",
    "    print('Following link to next page...', file=sys.stderr)\n",
    "    browser.follow_link(link_to_next) # 次へ」というリンクをたどる。\n",
    "\n",
    "        "
   ]
  },
  {
   "cell_type": "code",
   "execution_count": null,
   "metadata": {
    "ExecuteTime": {
     "end_time": "2018-02-17T03:22:41.154501Z",
     "start_time": "2018-02-17T03:22:41.139957Z"
    }
   },
   "outputs": [],
   "source": [
    "def print_order_history():\n",
    "    \"\"\"\n",
    "    現在のページのすべての注文履歴を表示する\n",
    "    \"\"\"\n",
    "    for line_item in driver.find_elements_by_class_name(\"order-info\"):\n",
    "        order = {} # 注文の情報を格納するためのdict\n",
    "        # ページ内のすべての注文履歴について反復する。ブラウザーの開発者ツールでclass属性の値を確認できる\n",
    "        # 注文の情報のすべての列について反復する\n",
    "        for column in line_item.find_elements_by_class_name(\"a-column\"):\n",
    "            try:\n",
    "                label_element = column.find_element_by_class_name('label')\n",
    "                value_element = column.find_element_by_class_name('value')\n",
    "            except:\n",
    "                continue\n",
    "            # ラベルと値がない列は無視する。\n",
    "            if label_element and value_element:\n",
    "                label = label_element.text\n",
    "                value = value_element.text\n",
    "                order[label] = value\n",
    "        print(order['注文日'], order['合計']) # 注文の情報を表示する。\n",
    "        print(order)"
   ]
  },
  {
   "cell_type": "code",
   "execution_count": null,
   "metadata": {
    "ExecuteTime": {
     "end_time": "2018-02-17T03:22:49.732122Z",
     "start_time": "2018-02-17T03:22:45.469464Z"
    }
   },
   "outputs": [],
   "source": [
    "print_order_history()"
   ]
  },
  {
   "cell_type": "code",
   "execution_count": null,
   "metadata": {
    "ExecuteTime": {
     "end_time": "2018-02-16T03:31:12.376320Z",
     "start_time": "2018-02-16T03:31:11.749995Z"
    }
   },
   "outputs": [],
   "source": [
    "# スクリーンショットを撮る\n",
    "driver.save_screenshot('screenshot.png')"
   ]
  },
  {
   "cell_type": "code",
   "execution_count": null,
   "metadata": {
    "ExecuteTime": {
     "end_time": "2018-02-17T06:22:01.329506Z",
     "start_time": "2018-02-17T06:21:58.287343Z"
    }
   },
   "outputs": [],
   "source": [
    "driver.quit()"
   ]
  },
  {
   "cell_type": "code",
   "execution_count": null,
   "metadata": {
    "ExecuteTime": {
     "end_time": "2018-02-12T13:37:54.097754Z",
     "start_time": "2018-02-12T13:37:49.332078Z"
    }
   },
   "outputs": [],
   "source": [
    "# ページャーをたどる。\n",
    "while True:\n",
    "    assert '注文履歴' in browser.parsed.title.string # 注文履歴画面が表示されていることを確認する。\n",
    "\n",
    "    print_order_history() # 注文履歴を表示する。\n",
    "\n",
    "    link_to_next = browser.get_link('次へ') #「次へ」というテキストを持つリンクを取得する。\n",
    "    if not link_to_next:\n",
    "        break #「次へ」のリンクがない場合はループを抜けて終了する。\n",
    "\n",
    "    print('Following link to next page...', file=sys.stderr)\n",
    "    browser.follow_link(link_to_next) # 次へ」というリンクをたどる。\n",
    "\n",
    "        "
   ]
  },
  {
   "cell_type": "code",
   "execution_count": null,
   "metadata": {
    "ExecuteTime": {
     "end_time": "2018-02-12T13:36:24.627849Z",
     "start_time": "2018-02-12T13:36:24.596640Z"
    }
   },
   "outputs": [],
   "source": [
    "def print_order_history():\n",
    "    \"\"\"\n",
    "    現在のページのすべての注文履歴を表示する\n",
    "    \"\"\"\n",
    "    for line_item in browser.select('.order-info'):\n",
    "        order = {} # 注文の情報を格納するためのdict\n",
    "        # ページ内のすべての注文履歴について反復する。ブラウザーの開発者ツールでclass属性の値を確認できる\n",
    "        # 注文の情報のすべての列について反復する\n",
    "        for column in line_item.select('.a-column'):\n",
    "            label_element = column.select_one('.label')\n",
    "            value_element = column.select_one('.value')\n",
    "            # ラベルと値がない列は無視する。\n",
    "            if label_element and value_element:\n",
    "                label = label_element.get_text().strip()\n",
    "                value = value_element.get_text().strip()\n",
    "                order[label] = value\n",
    "        print(order['注文日'], order['合計']) # 注文の情報を表示する。\n",
    "        "
   ]
  },
  {
   "cell_type": "code",
   "execution_count": null,
   "metadata": {},
   "outputs": [],
   "source": []
  },
  {
   "cell_type": "code",
   "execution_count": null,
   "metadata": {},
   "outputs": [],
   "source": []
  }
 ],
 "metadata": {
  "kernelspec": {
   "display_name": "Python 3",
   "language": "python",
   "name": "python3"
  },
  "language_info": {
   "codemirror_mode": {
    "name": "ipython",
    "version": 3
   },
   "file_extension": ".py",
   "mimetype": "text/x-python",
   "name": "python",
   "nbconvert_exporter": "python",
   "pygments_lexer": "ipython3",
   "version": "3.6.4"
  },
  "toc": {
   "nav_menu": {},
   "number_sections": true,
   "sideBar": true,
   "skip_h1_title": false,
   "toc_cell": false,
   "toc_position": {},
   "toc_section_display": "block",
   "toc_window_display": false
  }
 },
 "nbformat": 4,
 "nbformat_minor": 2
}
