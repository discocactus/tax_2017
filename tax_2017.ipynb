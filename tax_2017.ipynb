{
 "cells": [
  {
   "cell_type": "markdown",
   "metadata": {},
   "source": [
    "# settings"
   ]
  },
  {
   "cell_type": "code",
   "execution_count": null,
   "metadata": {
    "ExecuteTime": {
     "end_time": "2018-02-17T02:21:43.857162Z",
     "start_time": "2018-02-17T02:21:42.894007Z"
    }
   },
   "outputs": [],
   "source": [
    "import os\n",
    "import re\n",
    "import pandas as pd"
   ]
  },
  {
   "cell_type": "code",
   "execution_count": null,
   "metadata": {
    "ExecuteTime": {
     "end_time": "2018-02-17T02:21:45.785103Z",
     "start_time": "2018-02-17T02:21:45.782094Z"
    }
   },
   "outputs": [],
   "source": [
    "# pandas の最大表示列数を設定 (max_rows で表示行数の設定も可能)\n",
    "pd.set_option('display.max_columns', 30)"
   ]
  },
  {
   "cell_type": "code",
   "execution_count": null,
   "metadata": {
    "ExecuteTime": {
     "end_time": "2018-02-12T13:25:52.423086Z",
     "start_time": "2018-02-12T13:25:52.407460Z"
    }
   },
   "outputs": [],
   "source": [
    "os.getcwd()"
   ]
  },
  {
   "cell_type": "code",
   "execution_count": null,
   "metadata": {
    "ExecuteTime": {
     "end_time": "2018-02-17T02:22:16.224674Z",
     "start_time": "2018-02-17T02:22:16.221666Z"
    }
   },
   "outputs": [],
   "source": [
    "# 請求書の場所を指定\n",
    "bill_dir = r\"D:\\documents\\tax\\h29\\Bill_2017\""
   ]
  },
  {
   "cell_type": "code",
   "execution_count": null,
   "metadata": {
    "ExecuteTime": {
     "end_time": "2018-02-17T03:07:21.649614Z",
     "start_time": "2018-02-17T03:07:21.642108Z"
    }
   },
   "outputs": [],
   "source": [
    "def getEncode(filepath):\n",
    "    '''\n",
    "    テキストファイルの文字コードを確認する関数\n",
    "    デコードエラーが出なくなるまで順番に試す\n",
    "    試す順番で結果が変わる可能性がある\n",
    "    getEncode(r'filepath')\n",
    "    '''\n",
    "    encs = \"iso-2022-jp euc-jp sjis utf-8\".split()\n",
    "    for enc in encs:\n",
    "        with open(filepath, encoding=enc) as fr:\n",
    "            try:\n",
    "                fr = fr.read()\n",
    "            except UnicodeDecodeError:\n",
    "                continue\n",
    "        return enc"
   ]
  },
  {
   "cell_type": "code",
   "execution_count": null,
   "metadata": {},
   "outputs": [],
   "source": [
    "getEncode(r\"D:\\documents\\tax\\h29\\Bill_2017\\jcb\\201802meisai.csv\")"
   ]
  },
  {
   "cell_type": "markdown",
   "metadata": {},
   "source": [
    "# JCB"
   ]
  },
  {
   "cell_type": "code",
   "execution_count": null,
   "metadata": {
    "ExecuteTime": {
     "end_time": "2018-02-12T10:09:07.481198Z",
     "start_time": "2018-02-12T10:09:07.465559Z"
    }
   },
   "outputs": [],
   "source": [
    "card = 'jcb'"
   ]
  },
  {
   "cell_type": "code",
   "execution_count": null,
   "metadata": {
    "ExecuteTime": {
     "end_time": "2018-02-12T10:09:08.418760Z",
     "start_time": "2018-02-12T10:09:08.403143Z"
    }
   },
   "outputs": [],
   "source": [
    "bills = os.listdir('{0}\\{1}'.format(bill_dir, card))\n",
    "bills"
   ]
  },
  {
   "cell_type": "code",
   "execution_count": null,
   "metadata": {
    "ExecuteTime": {
     "end_time": "2018-02-12T10:18:32.883391Z",
     "start_time": "2018-02-12T10:18:32.774411Z"
    }
   },
   "outputs": [],
   "source": [
    "jcb = pd.DataFrame()\n",
    "for x in bills:\n",
    "    jcb = jcb.append(pd.read_csv('{0}\\{1}\\{2}'.format(bill_dir, card, x)\n",
    "                     , skiprows=5, encoding='Shift-JIS'))\n",
    "display(jcb)"
   ]
  },
  {
   "cell_type": "code",
   "execution_count": null,
   "metadata": {
    "ExecuteTime": {
     "end_time": "2018-02-12T10:18:34.274129Z",
     "start_time": "2018-02-12T10:18:34.258911Z"
    }
   },
   "outputs": [],
   "source": [
    "jcb.columns"
   ]
  },
  {
   "cell_type": "code",
   "execution_count": null,
   "metadata": {
    "ExecuteTime": {
     "end_time": "2018-02-12T10:09:28.455362Z",
     "start_time": "2018-02-12T10:09:28.424484Z"
    }
   },
   "outputs": [],
   "source": [
    "jcb.groupby('カテゴリ').count()"
   ]
  },
  {
   "cell_type": "code",
   "execution_count": null,
   "metadata": {
    "ExecuteTime": {
     "end_time": "2018-02-12T10:09:31.205671Z",
     "start_time": "2018-02-12T10:09:31.174363Z"
    }
   },
   "outputs": [],
   "source": [
    "jcb.groupby('支払区分').count()"
   ]
  },
  {
   "cell_type": "code",
   "execution_count": null,
   "metadata": {
    "ExecuteTime": {
     "end_time": "2018-02-12T10:09:31.830684Z",
     "start_time": "2018-02-12T10:09:31.815083Z"
    }
   },
   "outputs": [],
   "source": [
    "jcb.groupby('摘要').count()"
   ]
  },
  {
   "cell_type": "code",
   "execution_count": null,
   "metadata": {
    "ExecuteTime": {
     "end_time": "2018-02-12T10:18:44.096653Z",
     "start_time": "2018-02-12T10:18:44.081008Z"
    }
   },
   "outputs": [],
   "source": [
    "jcb['コード'] = \"\"\n",
    "jcb['カード'] = 'JCB'"
   ]
  },
  {
   "cell_type": "code",
   "execution_count": null,
   "metadata": {
    "ExecuteTime": {
     "end_time": "2018-02-12T10:18:44.831089Z",
     "start_time": "2018-02-12T10:18:44.752957Z"
    }
   },
   "outputs": [],
   "source": [
    "jcb = jcb[jcb['ご利用日'].str.contains('2017')]\n",
    "display(jcb)"
   ]
  },
  {
   "cell_type": "code",
   "execution_count": null,
   "metadata": {
    "ExecuteTime": {
     "end_time": "2018-02-12T10:18:50.816103Z",
     "start_time": "2018-02-12T10:18:50.784875Z"
    }
   },
   "outputs": [],
   "source": [
    "jcb = jcb[['ご利用日', 'コード', 'ご利用金額(￥)', 'ご利用先など', 'カード']]\n",
    "display(jcb)"
   ]
  },
  {
   "cell_type": "code",
   "execution_count": null,
   "metadata": {
    "ExecuteTime": {
     "end_time": "2018-02-12T10:18:51.784956Z",
     "start_time": "2018-02-12T10:18:51.738078Z"
    }
   },
   "outputs": [],
   "source": [
    "jcb.columns = ['日付', 'コード', '金額', '備考', 'カード']\n",
    "display(jcb)"
   ]
  },
  {
   "cell_type": "code",
   "execution_count": null,
   "metadata": {
    "ExecuteTime": {
     "end_time": "2018-02-12T10:18:55.894770Z",
     "start_time": "2018-02-12T10:18:55.847891Z"
    }
   },
   "outputs": [],
   "source": [
    "jcb = jcb.sort_values(['備考', '日付']).reset_index(drop=True)\n",
    "display(jcb)"
   ]
  },
  {
   "cell_type": "code",
   "execution_count": null,
   "metadata": {
    "ExecuteTime": {
     "end_time": "2018-02-12T10:19:04.630081Z",
     "start_time": "2018-02-12T10:19:04.598853Z"
    }
   },
   "outputs": [],
   "source": [
    "jcb['日付'] = jcb['日付'].str.replace(' ', \"\")\n",
    "display(jcb)"
   ]
  },
  {
   "cell_type": "code",
   "execution_count": null,
   "metadata": {
    "ExecuteTime": {
     "end_time": "2018-02-12T10:19:37.902954Z",
     "start_time": "2018-02-12T10:19:37.887301Z"
    }
   },
   "outputs": [],
   "source": [
    "jcb.to_csv('{0}\\{1}.csv'.format(bill_dir, card), index=False, encoding=('Shift-JIS'))"
   ]
  },
  {
   "cell_type": "markdown",
   "metadata": {},
   "source": [
    "# rakuten"
   ]
  },
  {
   "cell_type": "code",
   "execution_count": null,
   "metadata": {
    "ExecuteTime": {
     "end_time": "2018-02-14T06:12:55.984738Z",
     "start_time": "2018-02-14T06:12:55.969130Z"
    }
   },
   "outputs": [],
   "source": [
    "card = 'rakuten'"
   ]
  },
  {
   "cell_type": "code",
   "execution_count": null,
   "metadata": {
    "ExecuteTime": {
     "end_time": "2018-02-14T06:12:56.734871Z",
     "start_time": "2018-02-14T06:12:56.703838Z"
    }
   },
   "outputs": [],
   "source": [
    "bills = os.listdir('{0}\\{1}'.format(bill_dir, card))\n",
    "bills"
   ]
  },
  {
   "cell_type": "code",
   "execution_count": null,
   "metadata": {
    "ExecuteTime": {
     "end_time": "2018-02-14T07:32:07.891497Z",
     "start_time": "2018-02-14T07:32:07.844583Z"
    }
   },
   "outputs": [],
   "source": [
    "rakuten = pd.DataFrame()\n",
    "for x in bills:\n",
    "    rakuten = rakuten.append(pd.read_csv('{0}\\{1}\\{2}'.format(bill_dir, card, x)\n",
    "                             , encoding='Shift-JIS'))\n",
    "display(rakuten)"
   ]
  },
  {
   "cell_type": "code",
   "execution_count": null,
   "metadata": {
    "ExecuteTime": {
     "end_time": "2018-02-13T23:28:11.818339Z",
     "start_time": "2018-02-13T23:28:11.802684Z"
    }
   },
   "outputs": [],
   "source": [
    "rakuten.columns"
   ]
  },
  {
   "cell_type": "code",
   "execution_count": null,
   "metadata": {
    "ExecuteTime": {
     "end_time": "2018-02-12T07:54:04.216552Z",
     "start_time": "2018-02-12T07:54:04.185746Z"
    }
   },
   "outputs": [],
   "source": [
    "rakuten.groupby('利用者').count()"
   ]
  },
  {
   "cell_type": "code",
   "execution_count": null,
   "metadata": {
    "ExecuteTime": {
     "end_time": "2018-02-12T07:34:39.706468Z",
     "start_time": "2018-02-12T07:34:39.675635Z"
    }
   },
   "outputs": [],
   "source": [
    "rakuten.groupby('支払方法').count()"
   ]
  },
  {
   "cell_type": "code",
   "execution_count": null,
   "metadata": {
    "ExecuteTime": {
     "end_time": "2018-02-14T07:32:12.079402Z",
     "start_time": "2018-02-14T07:32:12.063801Z"
    }
   },
   "outputs": [],
   "source": [
    "rakuten['コード'] = \"\"\n",
    "rakuten['カード'] = '楽天'"
   ]
  },
  {
   "cell_type": "code",
   "execution_count": null,
   "metadata": {
    "ExecuteTime": {
     "end_time": "2018-02-14T07:32:16.598145Z",
     "start_time": "2018-02-14T07:32:16.582506Z"
    }
   },
   "outputs": [],
   "source": [
    "rakuten = rakuten[~rakuten['利用日'].isnull()]\n",
    "display(rakuten)"
   ]
  },
  {
   "cell_type": "code",
   "execution_count": null,
   "metadata": {
    "ExecuteTime": {
     "end_time": "2018-02-14T07:32:18.395197Z",
     "start_time": "2018-02-14T07:32:18.380004Z"
    }
   },
   "outputs": [],
   "source": [
    "rakuten = rakuten[rakuten['利用日'].str.contains('17.')]\n",
    "display(rakuten)"
   ]
  },
  {
   "cell_type": "code",
   "execution_count": null,
   "metadata": {
    "ExecuteTime": {
     "end_time": "2018-02-14T07:32:44.273439Z",
     "start_time": "2018-02-14T07:32:44.226558Z"
    }
   },
   "outputs": [],
   "source": [
    "rakuten = rakuten[['利用日', 'コード', '利用金額', '利用店名・商品名', 'カード']]\n",
    "display(rakuten)"
   ]
  },
  {
   "cell_type": "code",
   "execution_count": null,
   "metadata": {
    "ExecuteTime": {
     "end_time": "2018-02-14T07:32:46.476833Z",
     "start_time": "2018-02-14T07:32:46.445540Z"
    }
   },
   "outputs": [],
   "source": [
    "rakuten.columns = ['日付', 'コード', '金額', '備考', 'カード']\n",
    "display(rakuten)"
   ]
  },
  {
   "cell_type": "code",
   "execution_count": null,
   "metadata": {
    "ExecuteTime": {
     "end_time": "2018-02-14T07:32:51.743027Z",
     "start_time": "2018-02-14T07:32:51.696510Z"
    }
   },
   "outputs": [],
   "source": [
    "rakuten = rakuten.sort_values(['備考', '日付']).reset_index(drop=True)\n",
    "display(rakuten)"
   ]
  },
  {
   "cell_type": "code",
   "execution_count": null,
   "metadata": {
    "ExecuteTime": {
     "end_time": "2018-02-14T07:32:56.774848Z",
     "start_time": "2018-02-14T07:32:56.727977Z"
    }
   },
   "outputs": [],
   "source": [
    "rakuten['日付'] = rakuten['日付'].str.replace('.', '/')\n",
    "display(rakuten)"
   ]
  },
  {
   "cell_type": "code",
   "execution_count": null,
   "metadata": {
    "ExecuteTime": {
     "end_time": "2018-02-14T07:32:59.759569Z",
     "start_time": "2018-02-14T07:32:59.728286Z"
    }
   },
   "outputs": [],
   "source": [
    "rakuten['日付'] = rakuten['日付'].str.replace('17/', '2017/')\n",
    "display(rakuten)"
   ]
  },
  {
   "cell_type": "code",
   "execution_count": null,
   "metadata": {
    "ExecuteTime": {
     "end_time": "2018-02-12T10:59:52.790725Z",
     "start_time": "2018-02-12T10:59:52.775550Z"
    }
   },
   "outputs": [],
   "source": [
    "rakuten.to_csv('{0}\\{1}.csv'.format(bill_dir, card), index=False, encoding=('Shift-JIS'))"
   ]
  },
  {
   "cell_type": "markdown",
   "metadata": {},
   "source": [
    "# view"
   ]
  },
  {
   "cell_type": "code",
   "execution_count": null,
   "metadata": {
    "ExecuteTime": {
     "end_time": "2018-02-12T11:03:18.353375Z",
     "start_time": "2018-02-12T11:03:18.338169Z"
    }
   },
   "outputs": [],
   "source": [
    "card = 'view'"
   ]
  },
  {
   "cell_type": "code",
   "execution_count": null,
   "metadata": {
    "ExecuteTime": {
     "end_time": "2018-02-12T11:03:19.290950Z",
     "start_time": "2018-02-12T11:03:19.275371Z"
    }
   },
   "outputs": [],
   "source": [
    "bills = os.listdir('{0}\\{1}'.format(bill_dir, card))\n",
    "bills"
   ]
  },
  {
   "cell_type": "code",
   "execution_count": null,
   "metadata": {
    "ExecuteTime": {
     "end_time": "2018-02-12T11:05:27.470200Z",
     "start_time": "2018-02-12T11:05:27.360840Z"
    }
   },
   "outputs": [],
   "source": [
    "view = pd.DataFrame()\n",
    "for x in bills:\n",
    "    view = view.append(pd.read_csv('{0}\\{1}\\{2}'.format(bill_dir, card, x)\n",
    "                       , skiprows=5, encoding='Shift-JIS'))\n",
    "display(view)"
   ]
  },
  {
   "cell_type": "code",
   "execution_count": null,
   "metadata": {
    "ExecuteTime": {
     "end_time": "2018-02-12T11:05:54.816915Z",
     "start_time": "2018-02-12T11:05:54.801272Z"
    }
   },
   "outputs": [],
   "source": [
    "view.columns"
   ]
  },
  {
   "cell_type": "code",
   "execution_count": null,
   "metadata": {
    "ExecuteTime": {
     "end_time": "2018-02-12T11:06:44.517338Z",
     "start_time": "2018-02-12T11:06:44.486481Z"
    }
   },
   "outputs": [],
   "source": [
    "view.groupby('ご利用箇所').count()"
   ]
  },
  {
   "cell_type": "code",
   "execution_count": null,
   "metadata": {
    "ExecuteTime": {
     "end_time": "2018-02-12T11:07:36.593394Z",
     "start_time": "2018-02-12T11:07:36.577766Z"
    }
   },
   "outputs": [],
   "source": [
    "view.groupby('払戻額').count()"
   ]
  },
  {
   "cell_type": "code",
   "execution_count": null,
   "metadata": {
    "ExecuteTime": {
     "end_time": "2018-02-12T11:08:23.555388Z",
     "start_time": "2018-02-12T11:08:23.539762Z"
    }
   },
   "outputs": [],
   "source": [
    "view.groupby('支払区分（回数）').count()"
   ]
  },
  {
   "cell_type": "code",
   "execution_count": null,
   "metadata": {
    "ExecuteTime": {
     "end_time": "2018-02-12T11:08:34.181525Z",
     "start_time": "2018-02-12T11:08:34.166330Z"
    }
   },
   "outputs": [],
   "source": [
    "view['コード'] = \"\"\n",
    "view['カード'] = 'view'"
   ]
  },
  {
   "cell_type": "code",
   "execution_count": null,
   "metadata": {
    "ExecuteTime": {
     "end_time": "2018-02-12T11:08:56.027611Z",
     "start_time": "2018-02-12T11:08:55.981164Z"
    }
   },
   "outputs": [],
   "source": [
    "view = view[~view['ご利用箇所'].isnull()]\n",
    "display(view)"
   ]
  },
  {
   "cell_type": "code",
   "execution_count": null,
   "metadata": {
    "ExecuteTime": {
     "end_time": "2018-02-12T11:14:12.649808Z",
     "start_time": "2018-02-12T11:14:12.618542Z"
    }
   },
   "outputs": [],
   "source": [
    "view = view[view['ご利用年月日'].str.contains('2017/')]\n",
    "display(view)"
   ]
  },
  {
   "cell_type": "code",
   "execution_count": null,
   "metadata": {
    "ExecuteTime": {
     "end_time": "2018-02-12T11:11:18.009248Z",
     "start_time": "2018-02-12T11:11:17.978415Z"
    }
   },
   "outputs": [],
   "source": [
    "view = view[['ご利用年月日', 'コード', 'ご利用額', 'ご利用箇所', 'カード']]\n",
    "display(view)"
   ]
  },
  {
   "cell_type": "code",
   "execution_count": null,
   "metadata": {
    "ExecuteTime": {
     "end_time": "2018-02-12T11:11:32.311268Z",
     "start_time": "2018-02-12T11:11:32.280465Z"
    }
   },
   "outputs": [],
   "source": [
    "view.columns = ['日付', 'コード', '金額', '備考', 'カード']\n",
    "display(view)"
   ]
  },
  {
   "cell_type": "code",
   "execution_count": null,
   "metadata": {
    "ExecuteTime": {
     "end_time": "2018-02-12T11:14:33.703812Z",
     "start_time": "2018-02-12T11:14:33.672560Z"
    }
   },
   "outputs": [],
   "source": [
    "view = view.sort_values(['日付']).reset_index(drop=True)\n",
    "display(view)"
   ]
  },
  {
   "cell_type": "code",
   "execution_count": null,
   "metadata": {
    "ExecuteTime": {
     "end_time": "2018-02-12T11:15:49.375517Z",
     "start_time": "2018-02-12T11:15:49.359910Z"
    }
   },
   "outputs": [],
   "source": [
    "view.to_csv('{0}\\{1}.csv'.format(bill_dir, card), index=False, encoding=('Shift-JIS'))"
   ]
  },
  {
   "cell_type": "markdown",
   "metadata": {},
   "source": [
    "# nicos"
   ]
  },
  {
   "cell_type": "code",
   "execution_count": null,
   "metadata": {
    "ExecuteTime": {
     "end_time": "2018-02-17T02:23:04.659915Z",
     "start_time": "2018-02-17T02:23:04.656932Z"
    }
   },
   "outputs": [],
   "source": [
    "card = 'nicos'"
   ]
  },
  {
   "cell_type": "code",
   "execution_count": null,
   "metadata": {
    "ExecuteTime": {
     "end_time": "2018-02-17T02:23:07.122112Z",
     "start_time": "2018-02-17T02:23:07.112066Z"
    }
   },
   "outputs": [],
   "source": [
    "bills = os.listdir('{0}\\{1}'.format(bill_dir, card))\n",
    "bills"
   ]
  },
  {
   "cell_type": "code",
   "execution_count": null,
   "metadata": {
    "ExecuteTime": {
     "end_time": "2018-02-17T02:23:38.934279Z",
     "start_time": "2018-02-17T02:23:38.601753Z"
    }
   },
   "outputs": [],
   "source": [
    "nicos = pd.DataFrame()\n",
    "for x in bills:\n",
    "    nicos = nicos.append(pd.read_csv('{0}\\{1}\\{2}'.format(bill_dir, card, x)\n",
    "                         , encoding='Shift-JIS'))\n",
    "display(nicos)"
   ]
  },
  {
   "cell_type": "code",
   "execution_count": null,
   "metadata": {
    "ExecuteTime": {
     "end_time": "2018-02-12T11:31:14.349599Z",
     "start_time": "2018-02-12T11:31:14.334405Z"
    }
   },
   "outputs": [],
   "source": [
    "nicos.columns"
   ]
  },
  {
   "cell_type": "code",
   "execution_count": null,
   "metadata": {
    "ExecuteTime": {
     "end_time": "2018-02-12T11:31:15.193439Z",
     "start_time": "2018-02-12T11:31:15.162638Z"
    }
   },
   "outputs": [],
   "source": [
    "nicos.groupby('支払回数').count()"
   ]
  },
  {
   "cell_type": "code",
   "execution_count": null,
   "metadata": {
    "ExecuteTime": {
     "end_time": "2018-02-17T02:23:49.530397Z",
     "start_time": "2018-02-17T02:23:49.527408Z"
    }
   },
   "outputs": [],
   "source": [
    "nicos['コード'] = \"\"\n",
    "nicos['カード'] = 'nicos'"
   ]
  },
  {
   "cell_type": "code",
   "execution_count": null,
   "metadata": {
    "ExecuteTime": {
     "end_time": "2018-02-17T02:23:53.022989Z",
     "start_time": "2018-02-17T02:23:52.991364Z"
    },
    "collapsed": true
   },
   "outputs": [],
   "source": [
    "nicos = nicos[~nicos['ご利用日'].isnull()]\n",
    "display(nicos)"
   ]
  },
  {
   "cell_type": "code",
   "execution_count": null,
   "metadata": {
    "ExecuteTime": {
     "end_time": "2018-02-17T02:24:19.749368Z",
     "start_time": "2018-02-17T02:24:19.727808Z"
    }
   },
   "outputs": [],
   "source": [
    "nicos = nicos[nicos['ご利用日'].str.match(r'\\d+-\\d+-\\d+')]\n",
    "display(nicos)"
   ]
  },
  {
   "cell_type": "code",
   "execution_count": null,
   "metadata": {
    "ExecuteTime": {
     "end_time": "2018-02-17T02:24:36.188454Z",
     "start_time": "2018-02-17T02:24:36.166395Z"
    }
   },
   "outputs": [],
   "source": [
    "nicos = nicos[nicos['ご利用日'].str.contains('2017-')]\n",
    "display(nicos)"
   ]
  },
  {
   "cell_type": "code",
   "execution_count": null,
   "metadata": {
    "ExecuteTime": {
     "end_time": "2018-02-17T02:24:54.811828Z",
     "start_time": "2018-02-17T02:24:54.794278Z"
    }
   },
   "outputs": [],
   "source": [
    "nicos = nicos[['ご利用日', 'コード', 'ご利用金額（円）', 'ご利用先／商品内容など', 'カード']]\n",
    "display(nicos)"
   ]
  },
  {
   "cell_type": "code",
   "execution_count": null,
   "metadata": {
    "ExecuteTime": {
     "end_time": "2018-02-17T02:25:02.262599Z",
     "start_time": "2018-02-17T02:25:02.251589Z"
    }
   },
   "outputs": [],
   "source": [
    "nicos.columns = ['日付', 'コード', '金額', '備考', 'カード']\n",
    "display(nicos)"
   ]
  },
  {
   "cell_type": "code",
   "execution_count": null,
   "metadata": {
    "ExecuteTime": {
     "end_time": "2018-02-17T02:25:11.363365Z",
     "start_time": "2018-02-17T02:25:11.343311Z"
    }
   },
   "outputs": [],
   "source": [
    "nicos = nicos.sort_values(['備考', '日付']).reset_index(drop=True)\n",
    "display(nicos)"
   ]
  },
  {
   "cell_type": "code",
   "execution_count": null,
   "metadata": {
    "ExecuteTime": {
     "end_time": "2018-02-17T02:25:34.246866Z",
     "start_time": "2018-02-17T02:25:34.230319Z"
    },
    "scrolled": true
   },
   "outputs": [],
   "source": [
    "nicos['日付'] = nicos['日付'].str.replace('-', '/')\n",
    "display(nicos)"
   ]
  },
  {
   "cell_type": "code",
   "execution_count": null,
   "metadata": {
    "ExecuteTime": {
     "end_time": "2018-02-17T02:25:40.419704Z",
     "start_time": "2018-02-17T02:25:40.411684Z"
    }
   },
   "outputs": [],
   "source": [
    "nicos.to_csv('{0}\\{1}.csv'.format(bill_dir, card), index=False, encoding=('Shift-JIS'))"
   ]
  },
  {
   "cell_type": "markdown",
   "metadata": {},
   "source": [
    "# amazon"
   ]
  },
  {
   "cell_type": "markdown",
   "metadata": {},
   "source": [
    "未完成。購入履歴の一覧を取得したかったが、サイトの構造的になかなか難しい。"
   ]
  },
  {
   "cell_type": "code",
   "execution_count": null,
   "metadata": {
    "ExecuteTime": {
     "end_time": "2018-02-17T03:20:24.036265Z",
     "start_time": "2018-02-17T03:20:23.882147Z"
    }
   },
   "outputs": [],
   "source": [
    "from selenium import webdriver\n",
    "from selenium.webdriver.common.keys import Keys\n",
    "from selenium.webdriver.support.select import Select"
   ]
  },
  {
   "cell_type": "code",
   "execution_count": null,
   "metadata": {
    "ExecuteTime": {
     "end_time": "2018-02-17T04:10:37.568484Z",
     "start_time": "2018-02-17T04:10:37.564473Z"
    }
   },
   "outputs": [],
   "source": [
    "import sys\n",
    "import time\n",
    "import re"
   ]
  },
  {
   "cell_type": "code",
   "execution_count": null,
   "metadata": {
    "ExecuteTime": {
     "end_time": "2018-02-17T03:20:42.139540Z",
     "start_time": "2018-02-17T03:20:27.808286Z"
    }
   },
   "outputs": [],
   "source": [
    "AMAZON_EMAIL = input('email=')\n",
    "AMAZON_PASSWORD = input('password=')"
   ]
  },
  {
   "cell_type": "code",
   "execution_count": null,
   "metadata": {
    "ExecuteTime": {
     "end_time": "2018-02-17T03:20:48.993082Z",
     "start_time": "2018-02-17T03:20:44.145891Z"
    }
   },
   "outputs": [],
   "source": [
    "# ChromeのWebDriverオブジェクトを作成する\n",
    "driver = webdriver.Chrome()"
   ]
  },
  {
   "cell_type": "code",
   "execution_count": null,
   "metadata": {
    "ExecuteTime": {
     "end_time": "2018-02-17T03:21:01.192223Z",
     "start_time": "2018-02-17T03:20:57.361679Z"
    }
   },
   "outputs": [],
   "source": [
    "# Amazonの注文履歴画面(ログイン画面)を開く\n",
    "driver.get('https://www.amazon.co.jp/gp/css/order-history')\n",
    "print('Waiting for contents to be loaded...', file=sys.stderr)\n",
    "time.sleep(2)  # 2秒間待つ"
   ]
  },
  {
   "cell_type": "code",
   "execution_count": null,
   "metadata": {
    "ExecuteTime": {
     "end_time": "2018-02-17T03:21:02.513617Z",
     "start_time": "2018-02-17T03:21:02.503565Z"
    }
   },
   "outputs": [],
   "source": [
    "# タイトルに'Amazonサインイン'が含まれていることを確認する\n",
    "assert 'Amazonサインイン' in driver.title"
   ]
  },
  {
   "cell_type": "code",
   "execution_count": null,
   "metadata": {
    "ExecuteTime": {
     "end_time": "2018-02-17T03:21:09.034091Z",
     "start_time": "2018-02-17T03:21:05.791787Z"
    }
   },
   "outputs": [],
   "source": [
    "input_element = driver.find_element_by_name('email')\n",
    "input_element.send_keys(AMAZON_EMAIL)\n",
    "input_element.send_keys(Keys.RETURN)\n",
    "print('Waiting for contents to be loaded...', file=sys.stderr)\n",
    "time.sleep(2)  # 2秒間待つ"
   ]
  },
  {
   "cell_type": "code",
   "execution_count": null,
   "metadata": {
    "ExecuteTime": {
     "end_time": "2018-02-17T03:21:36.755378Z",
     "start_time": "2018-02-17T03:21:31.712468Z"
    }
   },
   "outputs": [],
   "source": [
    "input_element = driver.find_element_by_name('password')\n",
    "input_element.send_keys(AMAZON_PASSWORD)\n",
    "input_element.send_keys(Keys.RETURN)\n",
    "print('Waiting for contents to be loaded...', file=sys.stderr)\n",
    "time.sleep(2)  # 2秒間待つ"
   ]
  },
  {
   "cell_type": "code",
   "execution_count": null,
   "metadata": {
    "ExecuteTime": {
     "end_time": "2018-02-17T03:21:48.508012Z",
     "start_time": "2018-02-17T03:21:48.498988Z"
    }
   },
   "outputs": [],
   "source": [
    "# タイトルに'注文履歴'が含まれていることを確認する\n",
    "assert '注文履歴' in driver.title"
   ]
  },
  {
   "cell_type": "code",
   "execution_count": null,
   "metadata": {
    "ExecuteTime": {
     "end_time": "2018-02-17T03:21:59.054686Z",
     "start_time": "2018-02-17T03:21:56.841653Z"
    }
   },
   "outputs": [],
   "source": [
    "#要素をid番号から取得する(idが001のセレクトタグ)\n",
    "element = driver.find_element_by_id(\"orderFilter\")\n",
    "#指定するテキストを設定する\n",
    "text = \"2017年\"\n",
    "#セレクトタグの要素を指定してSelectクラスのインスタンスを作成\n",
    "select = Select(element)\n",
    "#セレクトタグのオプションをテキストを指定して選択する\n",
    "select.select_by_visible_text(text)"
   ]
  },
  {
   "cell_type": "code",
   "execution_count": null,
   "metadata": {
    "ExecuteTime": {
     "end_time": "2018-02-16T00:15:51.387765Z",
     "start_time": "2018-02-16T00:15:51.301509Z"
    },
    "collapsed": true
   },
   "outputs": [],
   "source": [
    "# ソースコードを取得する\n",
    "print(driver.page_source)"
   ]
  },
  {
   "cell_type": "code",
   "execution_count": null,
   "metadata": {
    "ExecuteTime": {
     "end_time": "2018-02-16T01:13:39.209032Z",
     "start_time": "2018-02-16T01:13:38.390022Z"
    },
    "collapsed": true
   },
   "outputs": [],
   "source": [
    "element = driver.find_element_by_id(\"ordersContainer\")\n",
    "print(element.text)"
   ]
  },
  {
   "cell_type": "code",
   "execution_count": null,
   "metadata": {
    "ExecuteTime": {
     "end_time": "2018-02-17T06:07:27.021653Z",
     "start_time": "2018-02-17T06:07:26.490400Z"
    },
    "scrolled": true
   },
   "outputs": [],
   "source": [
    "order = driver.find_elements_by_class_name(\"order\")\n",
    "for detail in order:\n",
    "    print(detail.text)\n",
    "    print('\\n- - - - -\\n')"
   ]
  },
  {
   "cell_type": "code",
   "execution_count": null,
   "metadata": {
    "ExecuteTime": {
     "end_time": "2018-02-17T06:10:10.922240Z",
     "start_time": "2018-02-17T06:10:10.866055Z"
    }
   },
   "outputs": [],
   "source": [
    "text1 = order[1].text\n",
    "text1"
   ]
  },
  {
   "cell_type": "code",
   "execution_count": null,
   "metadata": {
    "ExecuteTime": {
     "end_time": "2018-02-17T06:11:00.774860Z",
     "start_time": "2018-02-17T06:11:00.770828Z"
    },
    "collapsed": true
   },
   "outputs": [],
   "source": [
    "list1 = re.split('\\n', text1)\n",
    "list1"
   ]
  },
  {
   "cell_type": "code",
   "execution_count": null,
   "metadata": {
    "ExecuteTime": {
     "end_time": "2018-02-17T06:11:37.988268Z",
     "start_time": "2018-02-17T06:11:37.951170Z"
    }
   },
   "outputs": [],
   "source": [
    "text2 = order[2].text\n",
    "text2"
   ]
  },
  {
   "cell_type": "code",
   "execution_count": null,
   "metadata": {
    "ExecuteTime": {
     "end_time": "2018-02-17T06:11:39.614830Z",
     "start_time": "2018-02-17T06:11:39.609817Z"
    },
    "collapsed": true
   },
   "outputs": [],
   "source": [
    "list2 = re.split('\\n', text2)\n",
    "list2"
   ]
  },
  {
   "cell_type": "code",
   "execution_count": null,
   "metadata": {
    "ExecuteTime": {
     "end_time": "2018-02-17T06:12:03.585435Z",
     "start_time": "2018-02-17T06:12:03.581450Z"
    }
   },
   "outputs": [],
   "source": [
    "for index, item in enumerate(list1):\n",
    "    print(\"index: {0}, value: {1}\".format(str(index), item))"
   ]
  },
  {
   "cell_type": "code",
   "execution_count": null,
   "metadata": {
    "ExecuteTime": {
     "end_time": "2018-02-17T06:12:11.237474Z",
     "start_time": "2018-02-17T06:12:11.233461Z"
    }
   },
   "outputs": [],
   "source": [
    "for index, item in enumerate(list2):\n",
    "    print(\"index: {0}, value: {1}\".format(str(index), item))"
   ]
  },
  {
   "cell_type": "code",
   "execution_count": null,
   "metadata": {
    "ExecuteTime": {
     "end_time": "2018-02-17T06:12:38.717005Z",
     "start_time": "2018-02-17T06:12:38.712996Z"
    }
   },
   "outputs": [],
   "source": [
    "list(filter(lambda x: re.match('\\d\\d\\d\\d年', x), list1))"
   ]
  },
  {
   "cell_type": "code",
   "execution_count": null,
   "metadata": {
    "ExecuteTime": {
     "end_time": "2018-02-17T06:12:40.472147Z",
     "start_time": "2018-02-17T06:12:40.468137Z"
    }
   },
   "outputs": [],
   "source": [
    "list(filter(lambda x: re.match('￥', x), list1))"
   ]
  },
  {
   "cell_type": "code",
   "execution_count": null,
   "metadata": {
    "ExecuteTime": {
     "end_time": "2018-02-17T03:24:09.254871Z",
     "start_time": "2018-02-17T03:24:09.235819Z"
    }
   },
   "outputs": [],
   "source": [
    "order = driver.find_elements_by_class_name(\"order\")"
   ]
  },
  {
   "cell_type": "code",
   "execution_count": null,
   "metadata": {
    "ExecuteTime": {
     "end_time": "2018-02-17T03:24:14.152271Z",
     "start_time": "2018-02-17T03:24:14.085308Z"
    }
   },
   "outputs": [],
   "source": [
    "info = order[5].find_element_by_css_selector(\".order-info\")\n",
    "info.text"
   ]
  },
  {
   "cell_type": "code",
   "execution_count": null,
   "metadata": {
    "ExecuteTime": {
     "end_time": "2018-02-17T03:25:24.346479Z",
     "start_time": "2018-02-17T03:25:24.100186Z"
    },
    "scrolled": true
   },
   "outputs": [],
   "source": [
    "detail = order[1].find_element_by_css_selector(\".a-grid-top\")\n",
    "arow = detail.find_elements_by_css_selector(\".a-row\")\n",
    "for x in arow:\n",
    "    print(x.text)\n",
    "    print('\\n')"
   ]
  },
  {
   "cell_type": "code",
   "execution_count": null,
   "metadata": {
    "ExecuteTime": {
     "end_time": "2018-02-12T13:37:54.097754Z",
     "start_time": "2018-02-12T13:37:49.332078Z"
    }
   },
   "outputs": [],
   "source": [
    "# ページャーをたどる。\n",
    "while True:\n",
    "    assert '注文履歴' in browser.parsed.title.string # 注文履歴画面が表示されていることを確認する。\n",
    "\n",
    "    print_order_history() # 注文履歴を表示する。\n",
    "\n",
    "    link_to_next = browser.get_link('次へ') #「次へ」というテキストを持つリンクを取得する。\n",
    "    if not link_to_next:\n",
    "        break #「次へ」のリンクがない場合はループを抜けて終了する。\n",
    "\n",
    "    print('Following link to next page...', file=sys.stderr)\n",
    "    browser.follow_link(link_to_next) # 次へ」というリンクをたどる。\n",
    "\n",
    "        "
   ]
  },
  {
   "cell_type": "code",
   "execution_count": null,
   "metadata": {
    "ExecuteTime": {
     "end_time": "2018-02-17T03:22:41.154501Z",
     "start_time": "2018-02-17T03:22:41.139957Z"
    }
   },
   "outputs": [],
   "source": [
    "def print_order_history():\n",
    "    \"\"\"\n",
    "    現在のページのすべての注文履歴を表示する\n",
    "    \"\"\"\n",
    "    for line_item in driver.find_elements_by_class_name(\"order-info\"):\n",
    "        order = {} # 注文の情報を格納するためのdict\n",
    "        # ページ内のすべての注文履歴について反復する。ブラウザーの開発者ツールでclass属性の値を確認できる\n",
    "        # 注文の情報のすべての列について反復する\n",
    "        for column in line_item.find_elements_by_class_name(\"a-column\"):\n",
    "            try:\n",
    "                label_element = column.find_element_by_class_name('label')\n",
    "                value_element = column.find_element_by_class_name('value')\n",
    "            except:\n",
    "                continue\n",
    "            # ラベルと値がない列は無視する。\n",
    "            if label_element and value_element:\n",
    "                label = label_element.text\n",
    "                value = value_element.text\n",
    "                order[label] = value\n",
    "        print(order['注文日'], order['合計']) # 注文の情報を表示する。\n",
    "        print(order)"
   ]
  },
  {
   "cell_type": "code",
   "execution_count": null,
   "metadata": {
    "ExecuteTime": {
     "end_time": "2018-02-17T03:22:49.732122Z",
     "start_time": "2018-02-17T03:22:45.469464Z"
    }
   },
   "outputs": [],
   "source": [
    "print_order_history()"
   ]
  },
  {
   "cell_type": "code",
   "execution_count": null,
   "metadata": {
    "ExecuteTime": {
     "end_time": "2018-02-16T03:31:12.376320Z",
     "start_time": "2018-02-16T03:31:11.749995Z"
    }
   },
   "outputs": [],
   "source": [
    "# スクリーンショットを撮る\n",
    "driver.save_screenshot('screenshot.png')"
   ]
  },
  {
   "cell_type": "code",
   "execution_count": null,
   "metadata": {
    "ExecuteTime": {
     "end_time": "2018-02-16T06:03:22.202088Z",
     "start_time": "2018-02-16T06:03:19.149167Z"
    }
   },
   "outputs": [],
   "source": [
    "driver.quit()"
   ]
  },
  {
   "cell_type": "code",
   "execution_count": null,
   "metadata": {
    "ExecuteTime": {
     "end_time": "2018-02-12T13:37:54.097754Z",
     "start_time": "2018-02-12T13:37:49.332078Z"
    }
   },
   "outputs": [],
   "source": [
    "# ページャーをたどる。\n",
    "while True:\n",
    "    assert '注文履歴' in browser.parsed.title.string # 注文履歴画面が表示されていることを確認する。\n",
    "\n",
    "    print_order_history() # 注文履歴を表示する。\n",
    "\n",
    "    link_to_next = browser.get_link('次へ') #「次へ」というテキストを持つリンクを取得する。\n",
    "    if not link_to_next:\n",
    "        break #「次へ」のリンクがない場合はループを抜けて終了する。\n",
    "\n",
    "    print('Following link to next page...', file=sys.stderr)\n",
    "    browser.follow_link(link_to_next) # 次へ」というリンクをたどる。\n",
    "\n",
    "        "
   ]
  },
  {
   "cell_type": "code",
   "execution_count": null,
   "metadata": {
    "ExecuteTime": {
     "end_time": "2018-02-12T13:36:24.627849Z",
     "start_time": "2018-02-12T13:36:24.596640Z"
    }
   },
   "outputs": [],
   "source": [
    "def print_order_history():\n",
    "    \"\"\"\n",
    "    現在のページのすべての注文履歴を表示する\n",
    "    \"\"\"\n",
    "    for line_item in browser.select('.order-info'):\n",
    "        order = {} # 注文の情報を格納するためのdict\n",
    "        # ページ内のすべての注文履歴について反復する。ブラウザーの開発者ツールでclass属性の値を確認できる\n",
    "        # 注文の情報のすべての列について反復する\n",
    "        for column in line_item.select('.a-column'):\n",
    "            label_element = column.select_one('.label')\n",
    "            value_element = column.select_one('.value')\n",
    "            # ラベルと値がない列は無視する。\n",
    "            if label_element and value_element:\n",
    "                label = label_element.get_text().strip()\n",
    "                value = value_element.get_text().strip()\n",
    "                order[label] = value\n",
    "        print(order['注文日'], order['合計']) # 注文の情報を表示する。\n",
    "        "
   ]
  },
  {
   "cell_type": "code",
   "execution_count": null,
   "metadata": {},
   "outputs": [],
   "source": []
  },
  {
   "cell_type": "code",
   "execution_count": null,
   "metadata": {},
   "outputs": [],
   "source": []
  }
 ],
 "metadata": {
  "kernelspec": {
   "display_name": "Python 3",
   "language": "python",
   "name": "python3"
  },
  "language_info": {
   "codemirror_mode": {
    "name": "ipython",
    "version": 3
   },
   "file_extension": ".py",
   "mimetype": "text/x-python",
   "name": "python",
   "nbconvert_exporter": "python",
   "pygments_lexer": "ipython3",
   "version": "3.6.4"
  },
  "toc": {
   "nav_menu": {},
   "number_sections": true,
   "sideBar": true,
   "skip_h1_title": false,
   "toc_cell": false,
   "toc_position": {},
   "toc_section_display": "block",
   "toc_window_display": false
  }
 },
 "nbformat": 4,
 "nbformat_minor": 2
}
