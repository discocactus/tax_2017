{
 "cells": [
  {
   "cell_type": "markdown",
   "metadata": {},
   "source": [
    "# settings"
   ]
  },
  {
   "cell_type": "code",
   "execution_count": null,
   "metadata": {
    "ExecuteTime": {
     "end_time": "2021-04-03T05:14:38.243836Z",
     "start_time": "2021-04-03T05:14:36.155388Z"
    }
   },
   "outputs": [],
   "source": [
    "import os\n",
    "import re\n",
    "import pandas as pd"
   ]
  },
  {
   "cell_type": "code",
   "execution_count": null,
   "metadata": {
    "ExecuteTime": {
     "end_time": "2021-04-03T05:14:40.298152Z",
     "start_time": "2021-04-03T05:14:40.282945Z"
    }
   },
   "outputs": [],
   "source": [
    "# pandas の最大表示列数を設定 (max_rows で表示行数の設定も可能)\n",
    "pd.set_option('display.max_columns', 30)"
   ]
  },
  {
   "cell_type": "code",
   "execution_count": null,
   "metadata": {
    "ExecuteTime": {
     "end_time": "2021-04-03T05:14:42.977225Z",
     "start_time": "2021-04-03T05:14:42.945972Z"
    }
   },
   "outputs": [],
   "source": [
    "os.getcwd()"
   ]
  },
  {
   "cell_type": "code",
   "execution_count": null,
   "metadata": {
    "ExecuteTime": {
     "end_time": "2021-04-03T05:15:28.076333Z",
     "start_time": "2021-04-03T05:15:28.060737Z"
    }
   },
   "outputs": [],
   "source": [
    "# 請求書の場所を指定\n",
    "bill_dir = r\"D:\\documents\\tax\\r2(h32)\\Bill_2020\""
   ]
  },
  {
   "cell_type": "code",
   "execution_count": null,
   "metadata": {
    "ExecuteTime": {
     "end_time": "2021-04-03T05:15:31.305261Z",
     "start_time": "2021-04-03T05:15:31.289658Z"
    }
   },
   "outputs": [],
   "source": [
    "def getEncode(filepath):\n",
    "    '''\n",
    "    テキストファイルの文字コードを確認する関数\n",
    "    デコードエラーが出なくなるまで順番に試す\n",
    "    試す順番で結果が変わる可能性がある\n",
    "    getEncode(r'filepath')\n",
    "    '''\n",
    "    encs = \"iso-2022-jp euc-jp sjis utf-8\".split()\n",
    "    for enc in encs:\n",
    "        with open(filepath, encoding=enc) as fr:\n",
    "            try:\n",
    "                fr = fr.read()\n",
    "            except UnicodeDecodeError:\n",
    "                continue\n",
    "        return enc"
   ]
  },
  {
   "cell_type": "code",
   "execution_count": null,
   "metadata": {
    "ExecuteTime": {
     "end_time": "2021-04-03T05:41:19.574767Z",
     "start_time": "2021-04-03T05:41:19.559584Z"
    }
   },
   "outputs": [],
   "source": [
    "getEncode(r\"D:\\documents\\tax\\r2(h32)\\Bill_2020\\rakuten\\enavi202002(3765).csv\")"
   ]
  },
  {
   "cell_type": "markdown",
   "metadata": {},
   "source": [
    "# JCB"
   ]
  },
  {
   "cell_type": "code",
   "execution_count": null,
   "metadata": {
    "ExecuteTime": {
     "end_time": "2021-04-03T05:35:23.427134Z",
     "start_time": "2021-04-03T05:35:23.411467Z"
    }
   },
   "outputs": [],
   "source": [
    "card = 'jcb'"
   ]
  },
  {
   "cell_type": "code",
   "execution_count": null,
   "metadata": {
    "ExecuteTime": {
     "end_time": "2021-04-03T05:35:25.194344Z",
     "start_time": "2021-04-03T05:35:25.178698Z"
    }
   },
   "outputs": [],
   "source": [
    "bills = os.listdir('{0}\\{1}'.format(bill_dir, card))\n",
    "bills"
   ]
  },
  {
   "cell_type": "code",
   "execution_count": null,
   "metadata": {
    "ExecuteTime": {
     "end_time": "2021-04-03T05:35:36.419252Z",
     "start_time": "2021-04-03T05:35:36.234334Z"
    },
    "scrolled": true
   },
   "outputs": [],
   "source": [
    "jcb = pd.DataFrame()\n",
    "for x in bills:\n",
    "    jcb = jcb.append(pd.read_csv('{0}\\{1}\\{2}'.format(bill_dir, card, x)\n",
    "                     , skiprows=5, encoding='Shift-JIS'))\n",
    "display(jcb)"
   ]
  },
  {
   "cell_type": "code",
   "execution_count": null,
   "metadata": {
    "ExecuteTime": {
     "end_time": "2021-04-03T05:35:55.356355Z",
     "start_time": "2021-04-03T05:35:55.340697Z"
    }
   },
   "outputs": [],
   "source": [
    "jcb.columns"
   ]
  },
  {
   "cell_type": "code",
   "execution_count": null,
   "metadata": {
    "ExecuteTime": {
     "end_time": "2021-04-03T05:35:59.809935Z",
     "start_time": "2021-04-03T05:35:59.787802Z"
    }
   },
   "outputs": [],
   "source": [
    "jcb.groupby('カテゴリ').count()"
   ]
  },
  {
   "cell_type": "code",
   "execution_count": null,
   "metadata": {
    "ExecuteTime": {
     "end_time": "2021-04-03T05:36:06.392245Z",
     "start_time": "2021-04-03T05:36:06.371305Z"
    }
   },
   "outputs": [],
   "source": [
    "jcb.groupby('支払区分').count()"
   ]
  },
  {
   "cell_type": "code",
   "execution_count": null,
   "metadata": {
    "ExecuteTime": {
     "end_time": "2021-04-03T05:36:09.637795Z",
     "start_time": "2021-04-03T05:36:09.606590Z"
    }
   },
   "outputs": [],
   "source": [
    "jcb.groupby('摘要').count()"
   ]
  },
  {
   "cell_type": "code",
   "execution_count": null,
   "metadata": {
    "ExecuteTime": {
     "end_time": "2021-04-03T05:36:15.152471Z",
     "start_time": "2021-04-03T05:36:15.121257Z"
    }
   },
   "outputs": [],
   "source": [
    "jcb['コード'] = \"\"\n",
    "jcb['カード'] = 'JCB'"
   ]
  },
  {
   "cell_type": "code",
   "execution_count": null,
   "metadata": {
    "ExecuteTime": {
     "end_time": "2021-04-03T05:36:24.490906Z",
     "start_time": "2021-04-03T05:36:24.431499Z"
    }
   },
   "outputs": [],
   "source": [
    "jcb = jcb[jcb['ご利用日'].str.contains('2020')]\n",
    "display(jcb)"
   ]
  },
  {
   "cell_type": "code",
   "execution_count": null,
   "metadata": {
    "ExecuteTime": {
     "end_time": "2021-04-03T05:36:37.159706Z",
     "start_time": "2021-04-03T05:36:37.101124Z"
    }
   },
   "outputs": [],
   "source": [
    "jcb = jcb[['ご利用日', 'コード', 'ご利用金額(￥)', 'ご利用先など', 'カード']]\n",
    "display(jcb)"
   ]
  },
  {
   "cell_type": "code",
   "execution_count": null,
   "metadata": {
    "ExecuteTime": {
     "end_time": "2021-04-03T05:36:49.987242Z",
     "start_time": "2021-04-03T05:36:49.949458Z"
    }
   },
   "outputs": [],
   "source": [
    "jcb.columns = ['日付', 'コード', '金額', '備考', 'カード']\n",
    "display(jcb)"
   ]
  },
  {
   "cell_type": "code",
   "execution_count": null,
   "metadata": {
    "ExecuteTime": {
     "end_time": "2021-04-03T05:36:55.987782Z",
     "start_time": "2021-04-03T05:36:55.939041Z"
    }
   },
   "outputs": [],
   "source": [
    "jcb = jcb.sort_values(['備考', '日付']).reset_index(drop=True)\n",
    "display(jcb)"
   ]
  },
  {
   "cell_type": "code",
   "execution_count": null,
   "metadata": {
    "ExecuteTime": {
     "end_time": "2021-04-03T05:37:03.683749Z",
     "start_time": "2021-04-03T05:37:03.649448Z"
    }
   },
   "outputs": [],
   "source": [
    "jcb['日付'] = jcb['日付'].str.replace(' ', \"\")\n",
    "display(jcb)"
   ]
  },
  {
   "cell_type": "code",
   "execution_count": null,
   "metadata": {
    "ExecuteTime": {
     "end_time": "2021-04-03T05:37:21.018675Z",
     "start_time": "2021-04-03T05:37:20.987401Z"
    }
   },
   "outputs": [],
   "source": [
    "jcb.to_csv('{0}\\{1}.csv'.format(bill_dir, card), index=False, encoding=('Shift-JIS'))"
   ]
  },
  {
   "cell_type": "markdown",
   "metadata": {},
   "source": [
    "# rakuten"
   ]
  },
  {
   "cell_type": "code",
   "execution_count": null,
   "metadata": {
    "ExecuteTime": {
     "end_time": "2021-04-03T05:37:32.632749Z",
     "start_time": "2021-04-03T05:37:32.617121Z"
    }
   },
   "outputs": [],
   "source": [
    "card = 'rakuten'"
   ]
  },
  {
   "cell_type": "code",
   "execution_count": null,
   "metadata": {
    "ExecuteTime": {
     "end_time": "2021-04-03T05:41:51.003373Z",
     "start_time": "2021-04-03T05:41:50.988185Z"
    }
   },
   "outputs": [],
   "source": [
    "bills = os.listdir('{0}\\{1}'.format(bill_dir, card))\n",
    "bills"
   ]
  },
  {
   "cell_type": "code",
   "execution_count": null,
   "metadata": {
    "ExecuteTime": {
     "end_time": "2021-04-03T05:44:55.263018Z",
     "start_time": "2021-04-03T05:44:55.031340Z"
    }
   },
   "outputs": [],
   "source": [
    "# 2020年2月から文字コードがShift-JISからUTF-8に変更された?\n",
    "rakuten = pd.DataFrame()\n",
    "for x in bills:\n",
    "    rakuten = rakuten.append(pd.read_csv('{0}\\{1}\\{2}'.format(bill_dir, card, x)\n",
    "                             , encoding='utf-8'), sort = True)\n",
    "display(rakuten)"
   ]
  },
  {
   "cell_type": "code",
   "execution_count": null,
   "metadata": {
    "ExecuteTime": {
     "end_time": "2021-04-03T05:45:01.355877Z",
     "start_time": "2021-04-03T05:45:01.340280Z"
    }
   },
   "outputs": [],
   "source": [
    "rakuten.columns"
   ]
  },
  {
   "cell_type": "code",
   "execution_count": null,
   "metadata": {
    "ExecuteTime": {
     "end_time": "2021-04-03T05:45:01.973087Z",
     "start_time": "2021-04-03T05:45:01.941839Z"
    }
   },
   "outputs": [],
   "source": [
    "rakuten.groupby('利用者').count()"
   ]
  },
  {
   "cell_type": "code",
   "execution_count": null,
   "metadata": {
    "ExecuteTime": {
     "end_time": "2021-04-03T05:45:04.682798Z",
     "start_time": "2021-04-03T05:45:04.635877Z"
    }
   },
   "outputs": [],
   "source": [
    "rakuten.groupby('支払方法').count()"
   ]
  },
  {
   "cell_type": "code",
   "execution_count": null,
   "metadata": {
    "ExecuteTime": {
     "end_time": "2021-04-03T05:45:05.687079Z",
     "start_time": "2021-04-03T05:45:05.671457Z"
    }
   },
   "outputs": [],
   "source": [
    "rakuten['コード'] = \"\"\n",
    "rakuten['カード'] = '楽天'"
   ]
  },
  {
   "cell_type": "code",
   "execution_count": null,
   "metadata": {
    "ExecuteTime": {
     "end_time": "2021-04-03T05:45:06.822430Z",
     "start_time": "2021-04-03T05:45:06.706538Z"
    }
   },
   "outputs": [],
   "source": [
    "rakuten = rakuten[~rakuten['利用日'].isnull()]\n",
    "display(rakuten)"
   ]
  },
  {
   "cell_type": "code",
   "execution_count": null,
   "metadata": {
    "ExecuteTime": {
     "end_time": "2021-04-03T05:45:14.893597Z",
     "start_time": "2021-04-03T05:45:14.755911Z"
    }
   },
   "outputs": [],
   "source": [
    "# 2018年の7月分から日付表記が yy.mm.dd から yyyy/mm/dd に変更になった\n",
    "# regex=True とすることで 18. も 2018/ も抽出される\n",
    "# rakuten = rakuten[rakuten['利用日'].str.contains('18.', regex=True)]\n",
    "rakuten = rakuten[rakuten['利用日'].str.contains('2020/')]\n",
    "display(rakuten)"
   ]
  },
  {
   "cell_type": "code",
   "execution_count": null,
   "metadata": {
    "ExecuteTime": {
     "end_time": "2021-04-03T05:45:24.255437Z",
     "start_time": "2021-04-03T05:45:24.224186Z"
    }
   },
   "outputs": [],
   "source": [
    "rakuten = rakuten[['利用日', 'コード', '利用金額', '利用店名・商品名', 'カード']]\n",
    "display(rakuten)"
   ]
  },
  {
   "cell_type": "code",
   "execution_count": null,
   "metadata": {
    "ExecuteTime": {
     "end_time": "2021-04-03T05:45:31.370023Z",
     "start_time": "2021-04-03T05:45:31.316914Z"
    }
   },
   "outputs": [],
   "source": [
    "rakuten.columns = ['日付', 'コード', '金額', '備考', 'カード']\n",
    "display(rakuten)"
   ]
  },
  {
   "cell_type": "code",
   "execution_count": null,
   "metadata": {
    "ExecuteTime": {
     "end_time": "2021-04-03T05:45:40.988187Z",
     "start_time": "2021-04-03T05:45:40.927258Z"
    }
   },
   "outputs": [],
   "source": [
    "rakuten = rakuten.sort_values(['備考', '日付']).reset_index(drop=True)\n",
    "display(rakuten)"
   ]
  },
  {
   "cell_type": "code",
   "execution_count": null,
   "metadata": {
    "ExecuteTime": {
     "end_time": "2019-02-22T02:23:06.139666Z",
     "start_time": "2019-02-22T02:23:06.092835Z"
    }
   },
   "outputs": [],
   "source": [
    "# 2018年の7月分から日付表記が yy.mm.dd から yyyy/mm/dd に変更になったので不要\n",
    "# \n",
    "# rakuten['日付'] = rakuten['日付'].str.replace('18.', '2018.', regex=False)\n",
    "# display(rakuten)"
   ]
  },
  {
   "cell_type": "code",
   "execution_count": null,
   "metadata": {
    "ExecuteTime": {
     "end_time": "2019-02-22T02:23:13.547376Z",
     "start_time": "2019-02-22T02:23:13.500907Z"
    }
   },
   "outputs": [],
   "source": [
    "# 2018年の7月分から日付表記が yy.mm.dd から yyyy/mm/dd に変更になったので不要\n",
    "# rakuten['日付'] = rakuten['日付'].str.replace('.', '/')\n",
    "# display(rakuten)"
   ]
  },
  {
   "cell_type": "code",
   "execution_count": null,
   "metadata": {
    "ExecuteTime": {
     "end_time": "2021-04-03T05:46:03.659422Z",
     "start_time": "2021-04-03T05:46:03.643775Z"
    }
   },
   "outputs": [],
   "source": [
    "rakuten.to_csv('{0}\\{1}.csv'.format(bill_dir, card), index=False, encoding=('Shift-JIS'))"
   ]
  },
  {
   "cell_type": "markdown",
   "metadata": {},
   "source": [
    "# view"
   ]
  },
  {
   "cell_type": "code",
   "execution_count": null,
   "metadata": {
    "ExecuteTime": {
     "end_time": "2021-04-03T05:47:16.175598Z",
     "start_time": "2021-04-03T05:47:16.159976Z"
    }
   },
   "outputs": [],
   "source": [
    "card = 'view'"
   ]
  },
  {
   "cell_type": "code",
   "execution_count": null,
   "metadata": {
    "ExecuteTime": {
     "end_time": "2021-04-03T05:47:17.998053Z",
     "start_time": "2021-04-03T05:47:17.967236Z"
    }
   },
   "outputs": [],
   "source": [
    "bills = os.listdir('{0}\\{1}'.format(bill_dir, card))\n",
    "bills"
   ]
  },
  {
   "cell_type": "code",
   "execution_count": null,
   "metadata": {
    "ExecuteTime": {
     "end_time": "2021-04-03T05:47:28.375606Z",
     "start_time": "2021-04-03T05:47:28.244487Z"
    }
   },
   "outputs": [],
   "source": [
    "view = pd.DataFrame()\n",
    "for x in bills:\n",
    "    view = view.append(pd.read_csv('{0}\\{1}\\{2}'.format(bill_dir, card, x)\n",
    "                       , skiprows=5, encoding='Shift-JIS'))\n",
    "display(view)"
   ]
  },
  {
   "cell_type": "code",
   "execution_count": null,
   "metadata": {
    "ExecuteTime": {
     "end_time": "2021-04-03T05:47:34.870638Z",
     "start_time": "2021-04-03T05:47:34.857087Z"
    }
   },
   "outputs": [],
   "source": [
    "view.columns"
   ]
  },
  {
   "cell_type": "code",
   "execution_count": null,
   "metadata": {
    "ExecuteTime": {
     "end_time": "2021-04-03T05:47:35.874801Z",
     "start_time": "2021-04-03T05:47:35.843532Z"
    }
   },
   "outputs": [],
   "source": [
    "view.groupby('ご利用箇所').count()"
   ]
  },
  {
   "cell_type": "code",
   "execution_count": null,
   "metadata": {
    "ExecuteTime": {
     "end_time": "2021-04-03T05:47:40.593973Z",
     "start_time": "2021-04-03T05:47:40.563114Z"
    }
   },
   "outputs": [],
   "source": [
    "view.groupby('払戻額').count()"
   ]
  },
  {
   "cell_type": "code",
   "execution_count": null,
   "metadata": {
    "ExecuteTime": {
     "end_time": "2021-04-03T05:47:42.603749Z",
     "start_time": "2021-04-03T05:47:42.572915Z"
    }
   },
   "outputs": [],
   "source": [
    "view.groupby('支払区分（回数）').count()"
   ]
  },
  {
   "cell_type": "code",
   "execution_count": null,
   "metadata": {
    "ExecuteTime": {
     "end_time": "2021-04-03T05:47:44.641641Z",
     "start_time": "2021-04-03T05:47:44.625978Z"
    }
   },
   "outputs": [],
   "source": [
    "view['コード'] = \"\"\n",
    "view['カード'] = 'view'"
   ]
  },
  {
   "cell_type": "code",
   "execution_count": null,
   "metadata": {
    "ExecuteTime": {
     "end_time": "2021-04-03T05:47:50.049551Z",
     "start_time": "2021-04-03T05:47:49.980553Z"
    }
   },
   "outputs": [],
   "source": [
    "view = view[~view['ご利用箇所'].isnull()]\n",
    "display(view)"
   ]
  },
  {
   "cell_type": "code",
   "execution_count": null,
   "metadata": {
    "ExecuteTime": {
     "end_time": "2021-04-03T05:47:55.686516Z",
     "start_time": "2021-04-03T05:47:55.624042Z"
    }
   },
   "outputs": [],
   "source": [
    "view = view[view['ご利用年月日'].str.contains('2020/')]\n",
    "display(view)"
   ]
  },
  {
   "cell_type": "code",
   "execution_count": null,
   "metadata": {
    "ExecuteTime": {
     "end_time": "2021-04-03T05:48:06.145658Z",
     "start_time": "2021-04-03T05:48:06.122631Z"
    }
   },
   "outputs": [],
   "source": [
    "view = view[['ご利用年月日', 'コード', 'ご利用額', 'ご利用箇所', 'カード']]\n",
    "display(view)"
   ]
  },
  {
   "cell_type": "code",
   "execution_count": null,
   "metadata": {
    "ExecuteTime": {
     "end_time": "2021-04-03T05:48:09.762516Z",
     "start_time": "2021-04-03T05:48:09.731655Z"
    }
   },
   "outputs": [],
   "source": [
    "view.columns = ['日付', 'コード', '金額', '備考', 'カード']\n",
    "display(view)"
   ]
  },
  {
   "cell_type": "code",
   "execution_count": null,
   "metadata": {
    "ExecuteTime": {
     "end_time": "2021-04-03T05:48:15.004164Z",
     "start_time": "2021-04-03T05:48:14.966746Z"
    }
   },
   "outputs": [],
   "source": [
    "view = view.sort_values(['日付']).reset_index(drop=True)\n",
    "display(view)"
   ]
  },
  {
   "cell_type": "code",
   "execution_count": null,
   "metadata": {
    "ExecuteTime": {
     "end_time": "2021-04-03T05:48:19.603382Z",
     "start_time": "2021-04-03T05:48:19.587759Z"
    }
   },
   "outputs": [],
   "source": [
    "view.to_csv('{0}\\{1}.csv'.format(bill_dir, card), index=False, encoding=('Shift-JIS'))"
   ]
  },
  {
   "cell_type": "markdown",
   "metadata": {},
   "source": [
    "# nicos"
   ]
  },
  {
   "cell_type": "code",
   "execution_count": null,
   "metadata": {
    "ExecuteTime": {
     "end_time": "2021-04-03T05:48:24.407909Z",
     "start_time": "2021-04-03T05:48:24.392287Z"
    }
   },
   "outputs": [],
   "source": [
    "card = 'nicos'"
   ]
  },
  {
   "cell_type": "code",
   "execution_count": null,
   "metadata": {
    "ExecuteTime": {
     "end_time": "2021-04-03T05:48:25.163637Z",
     "start_time": "2021-04-03T05:48:25.148016Z"
    }
   },
   "outputs": [],
   "source": [
    "bills = os.listdir('{0}\\{1}'.format(bill_dir, card))\n",
    "bills"
   ]
  },
  {
   "cell_type": "code",
   "execution_count": null,
   "metadata": {
    "ExecuteTime": {
     "end_time": "2021-04-03T05:48:26.416694Z",
     "start_time": "2021-04-03T05:48:26.319450Z"
    }
   },
   "outputs": [],
   "source": [
    "nicos = pd.DataFrame()\n",
    "for x in bills:\n",
    "    nicos = nicos.append(pd.read_csv('{0}\\{1}\\{2}'.format(bill_dir, card, x)\n",
    "                         , encoding='Shift-JIS'))\n",
    "display(nicos)"
   ]
  },
  {
   "cell_type": "code",
   "execution_count": null,
   "metadata": {
    "ExecuteTime": {
     "end_time": "2021-04-03T05:48:32.712200Z",
     "start_time": "2021-04-03T05:48:32.680955Z"
    }
   },
   "outputs": [],
   "source": [
    "nicos.columns"
   ]
  },
  {
   "cell_type": "code",
   "execution_count": null,
   "metadata": {
    "ExecuteTime": {
     "end_time": "2021-04-03T05:48:35.455810Z",
     "start_time": "2021-04-03T05:48:35.424517Z"
    }
   },
   "outputs": [],
   "source": [
    "nicos.groupby('支払回数').count()"
   ]
  },
  {
   "cell_type": "code",
   "execution_count": null,
   "metadata": {
    "ExecuteTime": {
     "end_time": "2021-04-03T05:48:36.964351Z",
     "start_time": "2021-04-03T05:48:36.933477Z"
    }
   },
   "outputs": [],
   "source": [
    "nicos['コード'] = \"\"\n",
    "nicos['カード'] = 'nicos'"
   ]
  },
  {
   "cell_type": "code",
   "execution_count": null,
   "metadata": {
    "ExecuteTime": {
     "end_time": "2021-04-03T05:48:38.203361Z",
     "start_time": "2021-04-03T05:48:38.150013Z"
    }
   },
   "outputs": [],
   "source": [
    "nicos = nicos[~nicos['ご利用日'].isnull()]\n",
    "display(nicos)"
   ]
  },
  {
   "cell_type": "code",
   "execution_count": null,
   "metadata": {
    "ExecuteTime": {
     "end_time": "2021-04-03T05:48:44.443910Z",
     "start_time": "2021-04-03T05:48:44.412623Z"
    }
   },
   "outputs": [],
   "source": [
    "nicos = nicos[nicos['ご利用日'].str.match(r'\\d+-\\d+-\\d+')]\n",
    "display(nicos)"
   ]
  },
  {
   "cell_type": "code",
   "execution_count": null,
   "metadata": {
    "ExecuteTime": {
     "end_time": "2021-04-03T05:48:51.657795Z",
     "start_time": "2021-04-03T05:48:51.633662Z"
    }
   },
   "outputs": [],
   "source": [
    "nicos = nicos[nicos['ご利用日'].str.contains('2020-')]\n",
    "display(nicos)"
   ]
  },
  {
   "cell_type": "code",
   "execution_count": null,
   "metadata": {
    "ExecuteTime": {
     "end_time": "2021-04-03T05:48:55.673559Z",
     "start_time": "2021-04-03T05:48:55.635692Z"
    }
   },
   "outputs": [],
   "source": [
    "nicos = nicos[['ご利用日', 'コード', 'ご利用金額（円）', 'ご利用先／商品内容など', 'カード']]\n",
    "display(nicos)"
   ]
  },
  {
   "cell_type": "code",
   "execution_count": null,
   "metadata": {
    "ExecuteTime": {
     "end_time": "2021-04-03T05:48:59.335879Z",
     "start_time": "2021-04-03T05:48:59.304600Z"
    }
   },
   "outputs": [],
   "source": [
    "nicos.columns = ['日付', 'コード', '金額', '備考', 'カード']\n",
    "display(nicos)"
   ]
  },
  {
   "cell_type": "code",
   "execution_count": null,
   "metadata": {
    "ExecuteTime": {
     "end_time": "2021-04-03T05:49:02.749844Z",
     "start_time": "2021-04-03T05:49:02.718552Z"
    }
   },
   "outputs": [],
   "source": [
    "nicos = nicos.sort_values(['備考', '日付']).reset_index(drop=True)\n",
    "display(nicos)"
   ]
  },
  {
   "cell_type": "code",
   "execution_count": null,
   "metadata": {
    "ExecuteTime": {
     "end_time": "2021-04-03T05:49:04.913937Z",
     "start_time": "2021-04-03T05:49:04.898312Z"
    },
    "scrolled": true
   },
   "outputs": [],
   "source": [
    "nicos['日付'] = nicos['日付'].str.replace('-', '/')\n",
    "display(nicos)"
   ]
  },
  {
   "cell_type": "code",
   "execution_count": null,
   "metadata": {
    "ExecuteTime": {
     "end_time": "2021-04-03T05:49:12.344200Z",
     "start_time": "2021-04-03T05:49:12.319995Z"
    }
   },
   "outputs": [],
   "source": [
    "nicos.to_csv('{0}\\{1}.csv'.format(bill_dir, card), index=False, encoding=('Shift-JIS'))"
   ]
  },
  {
   "cell_type": "markdown",
   "metadata": {},
   "source": [
    "# amazon"
   ]
  },
  {
   "cell_type": "markdown",
   "metadata": {},
   "source": [
    "未完成。購入履歴の一覧を取得したかったが、サイトの構造的になかなか難しい。"
   ]
  },
  {
   "cell_type": "code",
   "execution_count": null,
   "metadata": {
    "ExecuteTime": {
     "end_time": "2018-02-17T06:21:22.988860Z",
     "start_time": "2018-02-17T06:21:22.881898Z"
    }
   },
   "outputs": [],
   "source": [
    "from selenium import webdriver\n",
    "from selenium.webdriver.common.keys import Keys\n",
    "from selenium.webdriver.support.select import Select"
   ]
  },
  {
   "cell_type": "code",
   "execution_count": null,
   "metadata": {
    "ExecuteTime": {
     "end_time": "2018-02-17T04:10:37.568484Z",
     "start_time": "2018-02-17T04:10:37.564473Z"
    }
   },
   "outputs": [],
   "source": [
    "import sys\n",
    "import time\n",
    "import re"
   ]
  },
  {
   "cell_type": "code",
   "execution_count": null,
   "metadata": {
    "ExecuteTime": {
     "end_time": "2018-02-17T03:20:42.139540Z",
     "start_time": "2018-02-17T03:20:27.808286Z"
    }
   },
   "outputs": [],
   "source": [
    "AMAZON_EMAIL = input('email=')\n",
    "AMAZON_PASSWORD = input('password=')"
   ]
  },
  {
   "cell_type": "code",
   "execution_count": null,
   "metadata": {
    "ExecuteTime": {
     "end_time": "2018-02-17T06:21:40.723511Z",
     "start_time": "2018-02-17T06:21:35.995503Z"
    }
   },
   "outputs": [],
   "source": [
    "# ChromeのWebDriverオブジェクトを作成する\n",
    "driver = webdriver.Chrome()"
   ]
  },
  {
   "cell_type": "code",
   "execution_count": null,
   "metadata": {
    "ExecuteTime": {
     "end_time": "2018-02-17T03:21:01.192223Z",
     "start_time": "2018-02-17T03:20:57.361679Z"
    }
   },
   "outputs": [],
   "source": [
    "# Amazonの注文履歴画面(ログイン画面)を開く\n",
    "driver.get('https://www.amazon.co.jp/gp/css/order-history')\n",
    "print('Waiting for contents to be loaded...', file=sys.stderr)\n",
    "time.sleep(2)  # 2秒間待つ"
   ]
  },
  {
   "cell_type": "code",
   "execution_count": null,
   "metadata": {
    "ExecuteTime": {
     "end_time": "2018-02-17T03:21:02.513617Z",
     "start_time": "2018-02-17T03:21:02.503565Z"
    }
   },
   "outputs": [],
   "source": [
    "# タイトルに'Amazonサインイン'が含まれていることを確認する\n",
    "assert 'Amazonサインイン' in driver.title"
   ]
  },
  {
   "cell_type": "code",
   "execution_count": null,
   "metadata": {
    "ExecuteTime": {
     "end_time": "2018-02-17T03:21:09.034091Z",
     "start_time": "2018-02-17T03:21:05.791787Z"
    }
   },
   "outputs": [],
   "source": [
    "input_element = driver.find_element_by_name('email')\n",
    "input_element.send_keys(AMAZON_EMAIL)\n",
    "input_element.send_keys(Keys.RETURN)\n",
    "print('Waiting for contents to be loaded...', file=sys.stderr)\n",
    "time.sleep(2)  # 2秒間待つ"
   ]
  },
  {
   "cell_type": "code",
   "execution_count": null,
   "metadata": {
    "ExecuteTime": {
     "end_time": "2018-02-17T03:21:36.755378Z",
     "start_time": "2018-02-17T03:21:31.712468Z"
    }
   },
   "outputs": [],
   "source": [
    "input_element = driver.find_element_by_name('password')\n",
    "input_element.send_keys(AMAZON_PASSWORD)\n",
    "input_element.send_keys(Keys.RETURN)\n",
    "print('Waiting for contents to be loaded...', file=sys.stderr)\n",
    "time.sleep(2)  # 2秒間待つ"
   ]
  },
  {
   "cell_type": "code",
   "execution_count": null,
   "metadata": {
    "ExecuteTime": {
     "end_time": "2018-02-17T03:21:48.508012Z",
     "start_time": "2018-02-17T03:21:48.498988Z"
    }
   },
   "outputs": [],
   "source": [
    "# タイトルに'注文履歴'が含まれていることを確認する\n",
    "assert '注文履歴' in driver.title"
   ]
  },
  {
   "cell_type": "code",
   "execution_count": null,
   "metadata": {
    "ExecuteTime": {
     "end_time": "2018-02-17T03:21:59.054686Z",
     "start_time": "2018-02-17T03:21:56.841653Z"
    }
   },
   "outputs": [],
   "source": [
    "#要素をid番号から取得する(idが001のセレクトタグ)\n",
    "element = driver.find_element_by_id(\"orderFilter\")\n",
    "#指定するテキストを設定する\n",
    "text = \"2017年\"\n",
    "#セレクトタグの要素を指定してSelectクラスのインスタンスを作成\n",
    "select = Select(element)\n",
    "#セレクトタグのオプションをテキストを指定して選択する\n",
    "select.select_by_visible_text(text)"
   ]
  },
  {
   "cell_type": "code",
   "execution_count": null,
   "metadata": {
    "ExecuteTime": {
     "end_time": "2018-02-16T00:15:51.387765Z",
     "start_time": "2018-02-16T00:15:51.301509Z"
    }
   },
   "outputs": [],
   "source": [
    "# ソースコードを取得する\n",
    "print(driver.page_source)"
   ]
  },
  {
   "cell_type": "code",
   "execution_count": null,
   "metadata": {
    "ExecuteTime": {
     "end_time": "2018-02-16T01:13:39.209032Z",
     "start_time": "2018-02-16T01:13:38.390022Z"
    }
   },
   "outputs": [],
   "source": [
    "element = driver.find_element_by_id(\"ordersContainer\")\n",
    "print(element.text)"
   ]
  },
  {
   "cell_type": "code",
   "execution_count": null,
   "metadata": {
    "ExecuteTime": {
     "end_time": "2018-02-17T06:07:27.021653Z",
     "start_time": "2018-02-17T06:07:26.490400Z"
    },
    "scrolled": true
   },
   "outputs": [],
   "source": [
    "order = driver.find_elements_by_class_name(\"order\")\n",
    "for detail in order:\n",
    "    print(detail.text)\n",
    "    print('\\n- - - - -\\n')"
   ]
  },
  {
   "cell_type": "code",
   "execution_count": null,
   "metadata": {
    "ExecuteTime": {
     "end_time": "2018-02-17T06:10:10.922240Z",
     "start_time": "2018-02-17T06:10:10.866055Z"
    }
   },
   "outputs": [],
   "source": [
    "text1 = order[1].text\n",
    "text1"
   ]
  },
  {
   "cell_type": "code",
   "execution_count": null,
   "metadata": {
    "ExecuteTime": {
     "end_time": "2018-02-17T06:11:00.774860Z",
     "start_time": "2018-02-17T06:11:00.770828Z"
    }
   },
   "outputs": [],
   "source": [
    "list1 = re.split('\\n', text1)\n",
    "list1"
   ]
  },
  {
   "cell_type": "code",
   "execution_count": null,
   "metadata": {
    "ExecuteTime": {
     "end_time": "2018-02-17T06:11:37.988268Z",
     "start_time": "2018-02-17T06:11:37.951170Z"
    }
   },
   "outputs": [],
   "source": [
    "text2 = order[2].text\n",
    "text2"
   ]
  },
  {
   "cell_type": "code",
   "execution_count": null,
   "metadata": {
    "ExecuteTime": {
     "end_time": "2018-02-17T06:11:39.614830Z",
     "start_time": "2018-02-17T06:11:39.609817Z"
    }
   },
   "outputs": [],
   "source": [
    "list2 = re.split('\\n', text2)\n",
    "list2"
   ]
  },
  {
   "cell_type": "code",
   "execution_count": null,
   "metadata": {
    "ExecuteTime": {
     "end_time": "2018-02-17T06:12:03.585435Z",
     "start_time": "2018-02-17T06:12:03.581450Z"
    }
   },
   "outputs": [],
   "source": [
    "for index, item in enumerate(list1):\n",
    "    print(\"index: {0}, value: {1}\".format(str(index), item))"
   ]
  },
  {
   "cell_type": "code",
   "execution_count": null,
   "metadata": {
    "ExecuteTime": {
     "end_time": "2018-02-17T06:12:11.237474Z",
     "start_time": "2018-02-17T06:12:11.233461Z"
    }
   },
   "outputs": [],
   "source": [
    "for index, item in enumerate(list2):\n",
    "    print(\"index: {0}, value: {1}\".format(str(index), item))"
   ]
  },
  {
   "cell_type": "code",
   "execution_count": null,
   "metadata": {
    "ExecuteTime": {
     "end_time": "2018-02-17T06:12:38.717005Z",
     "start_time": "2018-02-17T06:12:38.712996Z"
    }
   },
   "outputs": [],
   "source": [
    "list(filter(lambda x: re.match('\\d\\d\\d\\d年', x), list1))"
   ]
  },
  {
   "cell_type": "code",
   "execution_count": null,
   "metadata": {
    "ExecuteTime": {
     "end_time": "2018-02-17T06:12:40.472147Z",
     "start_time": "2018-02-17T06:12:40.468137Z"
    }
   },
   "outputs": [],
   "source": [
    "list(filter(lambda x: re.match('￥', x), list1))"
   ]
  },
  {
   "cell_type": "code",
   "execution_count": null,
   "metadata": {
    "ExecuteTime": {
     "end_time": "2018-02-17T03:24:09.254871Z",
     "start_time": "2018-02-17T03:24:09.235819Z"
    }
   },
   "outputs": [],
   "source": [
    "order = driver.find_elements_by_class_name(\"order\")"
   ]
  },
  {
   "cell_type": "code",
   "execution_count": null,
   "metadata": {
    "ExecuteTime": {
     "end_time": "2018-02-17T03:24:14.152271Z",
     "start_time": "2018-02-17T03:24:14.085308Z"
    }
   },
   "outputs": [],
   "source": [
    "info = order[5].find_element_by_css_selector(\".order-info\")\n",
    "info.text"
   ]
  },
  {
   "cell_type": "code",
   "execution_count": null,
   "metadata": {
    "ExecuteTime": {
     "end_time": "2018-02-17T03:25:24.346479Z",
     "start_time": "2018-02-17T03:25:24.100186Z"
    },
    "scrolled": true
   },
   "outputs": [],
   "source": [
    "detail = order[1].find_element_by_css_selector(\".a-grid-top\")\n",
    "arow = detail.find_elements_by_css_selector(\".a-row\")\n",
    "for x in arow:\n",
    "    print(x.text)\n",
    "    print('\\n')"
   ]
  },
  {
   "cell_type": "code",
   "execution_count": null,
   "metadata": {
    "ExecuteTime": {
     "end_time": "2018-02-12T13:37:54.097754Z",
     "start_time": "2018-02-12T13:37:49.332078Z"
    }
   },
   "outputs": [],
   "source": [
    "# ページャーをたどる。\n",
    "while True:\n",
    "    assert '注文履歴' in browser.parsed.title.string # 注文履歴画面が表示されていることを確認する。\n",
    "\n",
    "    print_order_history() # 注文履歴を表示する。\n",
    "\n",
    "    link_to_next = browser.get_link('次へ') #「次へ」というテキストを持つリンクを取得する。\n",
    "    if not link_to_next:\n",
    "        break #「次へ」のリンクがない場合はループを抜けて終了する。\n",
    "\n",
    "    print('Following link to next page...', file=sys.stderr)\n",
    "    browser.follow_link(link_to_next) # 次へ」というリンクをたどる。\n",
    "\n",
    "        "
   ]
  },
  {
   "cell_type": "code",
   "execution_count": null,
   "metadata": {
    "ExecuteTime": {
     "end_time": "2018-02-17T03:22:41.154501Z",
     "start_time": "2018-02-17T03:22:41.139957Z"
    }
   },
   "outputs": [],
   "source": [
    "def print_order_history():\n",
    "    \"\"\"\n",
    "    現在のページのすべての注文履歴を表示する\n",
    "    \"\"\"\n",
    "    for line_item in driver.find_elements_by_class_name(\"order-info\"):\n",
    "        order = {} # 注文の情報を格納するためのdict\n",
    "        # ページ内のすべての注文履歴について反復する。ブラウザーの開発者ツールでclass属性の値を確認できる\n",
    "        # 注文の情報のすべての列について反復する\n",
    "        for column in line_item.find_elements_by_class_name(\"a-column\"):\n",
    "            try:\n",
    "                label_element = column.find_element_by_class_name('label')\n",
    "                value_element = column.find_element_by_class_name('value')\n",
    "            except:\n",
    "                continue\n",
    "            # ラベルと値がない列は無視する。\n",
    "            if label_element and value_element:\n",
    "                label = label_element.text\n",
    "                value = value_element.text\n",
    "                order[label] = value\n",
    "        print(order['注文日'], order['合計']) # 注文の情報を表示する。\n",
    "        print(order)"
   ]
  },
  {
   "cell_type": "code",
   "execution_count": null,
   "metadata": {
    "ExecuteTime": {
     "end_time": "2018-02-17T03:22:49.732122Z",
     "start_time": "2018-02-17T03:22:45.469464Z"
    }
   },
   "outputs": [],
   "source": [
    "print_order_history()"
   ]
  },
  {
   "cell_type": "code",
   "execution_count": null,
   "metadata": {
    "ExecuteTime": {
     "end_time": "2018-02-16T03:31:12.376320Z",
     "start_time": "2018-02-16T03:31:11.749995Z"
    }
   },
   "outputs": [],
   "source": [
    "# スクリーンショットを撮る\n",
    "driver.save_screenshot('screenshot.png')"
   ]
  },
  {
   "cell_type": "code",
   "execution_count": null,
   "metadata": {
    "ExecuteTime": {
     "end_time": "2018-02-17T06:22:01.329506Z",
     "start_time": "2018-02-17T06:21:58.287343Z"
    }
   },
   "outputs": [],
   "source": [
    "driver.quit()"
   ]
  },
  {
   "cell_type": "code",
   "execution_count": null,
   "metadata": {
    "ExecuteTime": {
     "end_time": "2018-02-12T13:37:54.097754Z",
     "start_time": "2018-02-12T13:37:49.332078Z"
    }
   },
   "outputs": [],
   "source": [
    "# ページャーをたどる。\n",
    "while True:\n",
    "    assert '注文履歴' in browser.parsed.title.string # 注文履歴画面が表示されていることを確認する。\n",
    "\n",
    "    print_order_history() # 注文履歴を表示する。\n",
    "\n",
    "    link_to_next = browser.get_link('次へ') #「次へ」というテキストを持つリンクを取得する。\n",
    "    if not link_to_next:\n",
    "        break #「次へ」のリンクがない場合はループを抜けて終了する。\n",
    "\n",
    "    print('Following link to next page...', file=sys.stderr)\n",
    "    browser.follow_link(link_to_next) # 次へ」というリンクをたどる。\n",
    "\n",
    "        "
   ]
  },
  {
   "cell_type": "code",
   "execution_count": null,
   "metadata": {
    "ExecuteTime": {
     "end_time": "2018-02-12T13:36:24.627849Z",
     "start_time": "2018-02-12T13:36:24.596640Z"
    }
   },
   "outputs": [],
   "source": [
    "def print_order_history():\n",
    "    \"\"\"\n",
    "    現在のページのすべての注文履歴を表示する\n",
    "    \"\"\"\n",
    "    for line_item in browser.select('.order-info'):\n",
    "        order = {} # 注文の情報を格納するためのdict\n",
    "        # ページ内のすべての注文履歴について反復する。ブラウザーの開発者ツールでclass属性の値を確認できる\n",
    "        # 注文の情報のすべての列について反復する\n",
    "        for column in line_item.select('.a-column'):\n",
    "            label_element = column.select_one('.label')\n",
    "            value_element = column.select_one('.value')\n",
    "            # ラベルと値がない列は無視する。\n",
    "            if label_element and value_element:\n",
    "                label = label_element.get_text().strip()\n",
    "                value = value_element.get_text().strip()\n",
    "                order[label] = value\n",
    "        print(order['注文日'], order['合計']) # 注文の情報を表示する。\n",
    "        "
   ]
  },
  {
   "cell_type": "code",
   "execution_count": null,
   "metadata": {},
   "outputs": [],
   "source": []
  },
  {
   "cell_type": "code",
   "execution_count": null,
   "metadata": {},
   "outputs": [],
   "source": []
  }
 ],
 "metadata": {
  "kernelspec": {
   "display_name": "Python 3",
   "language": "python",
   "name": "python3"
  },
  "language_info": {
   "codemirror_mode": {
    "name": "ipython",
    "version": 3
   },
   "file_extension": ".py",
   "mimetype": "text/x-python",
   "name": "python",
   "nbconvert_exporter": "python",
   "pygments_lexer": "ipython3",
   "version": "3.6.4"
  },
  "toc": {
   "nav_menu": {},
   "number_sections": true,
   "sideBar": true,
   "skip_h1_title": false,
   "toc_cell": false,
   "toc_position": {},
   "toc_section_display": "block",
   "toc_window_display": false
  }
 },
 "nbformat": 4,
 "nbformat_minor": 2
}
